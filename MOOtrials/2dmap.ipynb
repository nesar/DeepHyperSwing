{
 "cells": [
  {
   "cell_type": "code",
   "execution_count": 1,
   "id": "a31a1a3b",
   "metadata": {},
   "outputs": [
    {
     "name": "stdout",
     "output_type": "stream",
     "text": [
      "Num GPUs: 8\n"
     ]
    }
   ],
   "source": [
    "# Activate TF2 behavior:\n",
    "from tensorflow.python import tf2\n",
    "if not tf2.enabled():\n",
    "  import tensorflow.compat.v2 as tf\n",
    "  tf.enable_v2_behavior() \n",
    "  assert tf2.enabled()\n",
    "\n",
    "import numpy as np\n",
    "import tensorflow as tf\n",
    "\n",
    "# Set seeds\n",
    "np.random.seed(10)\n",
    "tf.random.set_seed(10)\n",
    "\n",
    "from tensorflow.keras.layers import Input, Dense, LSTM, Lambda, Dropout, Flatten, Reshape, Conv2DTranspose\n",
    "from tensorflow.keras.layers import Concatenate, Conv2D, UpSampling2D, MaxPooling2D, Conv3D, MaxPool3D, UpSampling3D, Conv3DTranspose\n",
    "\n",
    "from tensorflow.keras import optimizers, models, regularizers\n",
    "from tensorflow.keras import backend as K\n",
    "from tensorflow.keras.callbacks import ModelCheckpoint, EarlyStopping\n",
    "from tensorflow.keras.models import load_model, Sequential, Model\n",
    "from tensorflow.keras.regularizers import l1\n",
    "from tensorflow.keras.utils import plot_model\n",
    "from keras.losses import mse, binary_crossentropy\n",
    "\n",
    "from sklearn.pipeline import Pipeline\n",
    "from sklearn.preprocessing import StandardScaler, MinMaxScaler\n",
    "\n",
    "\n",
    "# import matplotlib\n",
    "# matplotlib.use('Agg')\n",
    "\n",
    "import matplotlib.pyplot as plt\n",
    "import glob \n",
    "\n",
    "# mode = 'train'   \n",
    "mode = 'test'\n",
    "\n",
    "physical_devices = tf.config.list_physical_devices('GPU')\n",
    "print(\"Num GPUs:\", len(physical_devices))\n",
    "\n",
    "import umap\n",
    "import time\n",
    "time1 = time.time()"
   ]
  },
  {
   "cell_type": "code",
   "execution_count": 2,
   "id": "6610d8c5",
   "metadata": {},
   "outputs": [
    {
     "name": "stdout",
     "output_type": "stream",
     "text": [
      "DeepHyper Version: 0.4.2\n"
     ]
    }
   ],
   "source": [
    "import gzip\n",
    "\n",
    "import deephyper\n",
    "import matplotlib.pyplot as plt\n",
    "import numpy as np\n",
    "import tensorflow as tf\n",
    "\n",
    "from sklearn.decomposition import PCA\n",
    "\n",
    "from deephyper.nas.metrics import r2, mse\n",
    "\n",
    "print(f\"DeepHyper Version: {deephyper.__version__}\")"
   ]
  },
  {
   "cell_type": "code",
   "execution_count": 3,
   "id": "53abba74",
   "metadata": {},
   "outputs": [],
   "source": [
    "######## folder is where parameter matrix is stored ######\n",
    "\n",
    "def shuffle(X, y):\n",
    "    shuffleOrder = np.arange(X.shape[0])\n",
    "    np.random.shuffle(shuffleOrder)\n",
    "    X = X[shuffleOrder]\n",
    "    y = y[shuffleOrder]\n",
    "    return X, y, shuffleOrder"
   ]
  },
  {
   "cell_type": "code",
   "execution_count": 4,
   "id": "d2365ca3",
   "metadata": {},
   "outputs": [],
   "source": [
    "num_epochs = 200\n",
    "batch_size = 8 #4 #256\n",
    "learning_rate = 1e-3 #1e-4\n",
    "decay_rate = 0.1\n",
    "\n",
    "latent_dim = 8 #16 ###\n",
    "epsilon_mean = 0.1\n",
    "epsilon_std = 1e-4 #1e-4\n",
    "\n",
    "nGrid= 1024\n",
    "nSamples = 1000\n",
    "\n",
    "train_test_split= 0.90\n",
    "from sklearn.utils import shuffle"
   ]
  },
  {
   "cell_type": "code",
   "execution_count": 5,
   "id": "1dda62fd",
   "metadata": {},
   "outputs": [],
   "source": [
    "\n",
    "\n",
    "def load_data(nSamples):\n",
    "    \n",
    "    dirIn = '/lcrc/project/cosmo_ai/nramachandra/Projects/PRISM/new_void_problem/Example_Ellipsoidal_Void/Run_2/Compiled/Data/'\n",
    "\n",
    "    \n",
    "    ell_all_files = glob.glob(dirIn+'/*Ellipse*')\n",
    "    stress_all_files = glob.glob(dirIn+'/*VonMises*')\n",
    "\n",
    "    ell_all = np.array([np.load(f) for f in ell_all_files])[:nSamples]\n",
    "    stress_all = np.array([np.load(f) for f in stress_all_files])[:nSamples]\n",
    "\n",
    "\n",
    "    split = np.int(train_test_split*ell_all.shape[0])\n",
    "\n",
    "    train_data = ell_all[0:split, :, :].astype('float32')\n",
    "    train_target = stress_all[0:split, :, :].astype('float32')\n",
    "    test_data = ell_all[split:, :, :].astype('float32')\n",
    "    test_target = stress_all[split:, :, :].astype('float32')\n",
    "\n",
    "    return (train_data[:, :nGrid, :nGrid], train_target), (test_data[:, :nGrid, :nGrid], test_target)\n",
    "            \n"
   ]
  },
  {
   "cell_type": "code",
   "execution_count": 6,
   "id": "02cbf54f-5ccd-4c23-b9b0-368a3cbbf7a4",
   "metadata": {},
   "outputs": [],
   "source": [
    "dirIn = '/lcrc/project/cosmo_ai/nramachandra/Projects/PRISM/new_void_problem/Example_Ellipsoidal_Void/Run_2/Compiled/Data/'\n",
    "stress_all_files = glob.glob(dirIn+'/*VonMises*')\n",
    "stress_all = np.array([np.load(f) for f in stress_all_files])[:nSamples]"
   ]
  },
  {
   "cell_type": "code",
   "execution_count": 31,
   "id": "537f81af-172e-44ca-ac4e-58654fa7d72e",
   "metadata": {},
   "outputs": [],
   "source": [
    "\n",
    "\n",
    "def load_data(nSamples):\n",
    "    \n",
    "    dirIn = '/lcrc/project/cosmo_ai/nramachandra/Projects/PRISM/new_void_problem/Example_Ellipsoidal_Void/Run_2/Compiled/Data/'\n",
    "\n",
    "    \n",
    "    ell_all_files = glob.glob(dirIn+'/*Ellipse*')\n",
    "    stress_all_files = glob.glob(dirIn+'/*VonMises*')\n",
    "\n",
    "    ell_all = np.array([np.load(f) for f in ell_all_files])[:nSamples]\n",
    "    stress_all = np.array([np.load(f) for f in stress_all_files])[:nSamples]\n",
    "    \n",
    "    max_stress = np.max(stress_all, axis=(1,2))  ## max stress\n",
    "    \n",
    "\n",
    "    vol90 = []  ## high vol region\n",
    "    for ind in range(stress_all.shape[0]):\n",
    "        vol90i = np.where(stress_all[ind] > 0.9*max_stress[ind], 1, 0).sum()\n",
    "        vol90 = np.append(vol90, vol90i)\n",
    "\n",
    "    target_all = np.vstack([max_stress, vol90]).T\n",
    "\n",
    "    split = int(train_test_split*ell_all.shape[0])\n",
    "\n",
    "    train_data = ell_all[0:split, :, :].astype('float32')\n",
    "    # train_target = stress_all[0:split, :, :].astype('float32')\n",
    "    train_target = target_all[0:split].astype('float32')\n",
    "\n",
    "    test_data = ell_all[split:, :, :].astype('float32')\n",
    "    # test_target = stress_all[split:, :, :].astype('float32')\n",
    "    test_target = target_all[split:].astype('float32')\n",
    "\n",
    "\n",
    "    return (train_data[:, :nGrid, :nGrid], train_target), (test_data[:, :nGrid, :nGrid], test_target)\n",
    "            \n"
   ]
  },
  {
   "cell_type": "code",
   "execution_count": 32,
   "id": "12054be2",
   "metadata": {},
   "outputs": [
    {
     "name": "stdout",
     "output_type": "stream",
     "text": [
      "(180, 1024, 1024)\n",
      "(180, 2)\n"
     ]
    }
   ],
   "source": [
    "(train_input, train_target), (test_input, test_target) = load_data(nSamples)\n",
    "\n",
    "print(train_input.shape)\n",
    "print(train_target.shape)\n",
    "\n",
    "num_obj = train_target.shape[1]\n",
    " "
   ]
  },
  {
   "cell_type": "code",
   "execution_count": 9,
   "id": "98421937",
   "metadata": {},
   "outputs": [
    {
     "name": "stdout",
     "output_type": "stream",
     "text": [
      "old min-max: 0.0 1.0\n",
      "new min-max: 0.0 1.0\n",
      "old min-max: 446.0 26436118.0\n",
      "new min-max: 0.0 1.0\n"
     ]
    }
   ],
   "source": [
    "loaddata = 'average' ## 'average' or 'log' for different normalization\n",
    "\n",
    "\n",
    "if loaddata == 'average':\n",
    "# RESCALING IMAGES\n",
    "#print(train_images[0,:,:,:,0])\n",
    "    tmin = train_input.min()\n",
    "    \n",
    "    tmax = train_input.max()\n",
    "    print('old min-max:', tmin, tmax)\n",
    "    train_images = (train_input - tmin) / (tmax - tmin) # Normalize the images to [-1, 1]\n",
    "    test_images = (test_input - tmin) / (tmax - tmin)\n",
    "    print('new min-max:', train_images.min(), train_images.max())\n",
    "\n",
    "    shape0 = train_images.shape[0]\n",
    "    swe_train_data = train_images.reshape(shape0, nGrid, nGrid, 1)\n",
    "    shape0 = test_images.shape[0]\n",
    "    swe_test_data = test_images.reshape(shape0, nGrid, nGrid, 1)\n",
    "    \n",
    "    \n",
    "    ############################################\n",
    "    \n",
    "    tmin = train_target.min()\n",
    "    \n",
    "    tmax = train_target.max()\n",
    "    print('old min-max:', tmin, tmax)\n",
    "    train_target = (train_target - tmin) / (tmax - tmin) # Normalize the images to [-1, 1]\n",
    "    test_target = (test_target - tmin) / (tmax - tmin)\n",
    "    print('new min-max:', train_target.min(), train_target.max())\n",
    "\n",
    "    shape0 = train_target.shape[0]\n",
    "    # swe_train_target = train_target.reshape(shape0, nGrid, nGrid, 1)\n",
    "\n",
    "    shape0 = test_target.shape[0]\n",
    "    # swe_test_target = test_target.reshape(shape0, nGrid, nGrid, 1)\n"
   ]
  },
  {
   "cell_type": "code",
   "execution_count": 10,
   "id": "2c8c68f2-530d-403a-8018-6bdae4c2e7ef",
   "metadata": {},
   "outputs": [],
   "source": [
    "def load_data_prepared():\n",
    "    (train_input, train_target), (test_input, test_target) = load_data(nSamples)\n",
    "    \n",
    "    # RESCALING IMAGES\n",
    "\n",
    "    tmin = train_input.min()\n",
    "    \n",
    "    tmax = train_input.max()\n",
    "    # print('old min-max:', tmin, tmax)\n",
    "    train_images = (train_input - tmin) / (tmax - tmin) # Normalize the images to [-1, 1]\n",
    "    test_images = (test_input - tmin) / (tmax - tmin)\n",
    "    # print('new min-max:', train_images.min(), train_images.max())\n",
    "\n",
    "    shape0 = train_images.shape[0]\n",
    "    swe_train_data = train_images.reshape(shape0, nGrid, nGrid, 1)\n",
    "    shape0 = test_images.shape[0]\n",
    "    swe_test_data = test_images.reshape(shape0, nGrid, nGrid, 1)\n",
    "    \n",
    "    \n",
    "    ############################################\n",
    "    # RESCALING TARGETS\n",
    "\n",
    "    \n",
    "    tmin = train_target.min()\n",
    "    \n",
    "    tmax = train_target.max()\n",
    "    # print('old min-max:', tmin, tmax)\n",
    "    train_target = (train_target - tmin) / (tmax - tmin) # Normalize the images to [-1, 1]\n",
    "    test_target = (test_target - tmin) / (tmax - tmin)\n",
    "    # print('new min-max:', train_target.min(), train_target.max())\n",
    "    \n",
    "    return (swe_train_data, train_target), (swe_test_data, test_target)\n",
    "\n"
   ]
  },
  {
   "cell_type": "code",
   "execution_count": 15,
   "id": "a2bc9807-06e5-408e-8730-5cb8eee55826",
   "metadata": {},
   "outputs": [],
   "source": [
    "def build_and_train_model(config: dict, n_components: int = 2, verbose: bool = 0):\n",
    "    tf.keras.utils.set_random_seed(42)\n",
    "\n",
    "    default_config = {\n",
    "        \"activation\": \"relu\",\n",
    "        \"recurrent_activation\": \"sigmoid\",\n",
    "        \"learning_rate\": 1e-3,\n",
    "        \"batch_size\": 2,\n",
    "        \"epochs\": 20,\n",
    "    }\n",
    "    default_config.update(config)\n",
    "\n",
    "    \n",
    "    (X_train, y_train), (X_valid, y_valid) = load_data_prepared()\n",
    "\n",
    "\n",
    "\n",
    "    model = tf.keras.Sequential(\n",
    "        [tf.keras.Input(shape=X_train.shape[1:])] \n",
    "        + [tf.keras.layers.Conv2D(128, kernel_size=3, activation='relu', strides=2, padding='same')]\n",
    "        + [tf.keras.layers.Conv2D(64, kernel_size=3, activation='relu', strides=2, padding='same')]\n",
    "        + [tf.keras.layers.Conv2D(64, kernel_size=3, activation='relu', strides=4, padding='same')]\n",
    "        + [tf.keras.layers.Conv2D(64, kernel_size=3, activation='relu', strides=4, padding='same')]\n",
    "        + [tf.keras.layers.Conv2D(64, kernel_size=3, activation='relu', strides=4, padding='same')]\n",
    "        + [tf.keras.layers.Flatten()]\n",
    "        # + layers\n",
    "        + [tf.keras.layers.Dense(512**n_components, activation=default_config[\"activation\"])]\n",
    "        + [tf.keras.layers.Dense(64*n_components, activation=default_config[\"activation\"])]\n",
    "        + [tf.keras.layers.Dense(32*n_components, activation=default_config[\"activation\"])]\n",
    "        + [tf.keras.layers.Dense(n_components, activation='linear')]\n",
    "    )\n",
    "    \n",
    "\n",
    "\n",
    "    if verbose:\n",
    "        model.summary()\n",
    "        \n",
    "        \n",
    "    def metric1(y_true, y_pred):\n",
    "        squared_difference = tf.square(y_true - y_pred)\n",
    "        return tf.reduce_mean(squared_difference, axis=0)[0]\n",
    "\n",
    "\n",
    "    def metric2(y_true, y_pred):\n",
    "        squared_difference = tf.square(y_true - y_pred)\n",
    "        return tf.reduce_mean(squared_difference, axis=0)[1]\n",
    "\n",
    "\n",
    "    optimizer = tf.keras.optimizers.Adam(learning_rate=default_config[\"learning_rate\"])\n",
    "    model.compile(optimizer, \"mse\", metrics=[metric1, metric2])\n",
    "\n",
    "    history = model.fit(\n",
    "        X_train,\n",
    "        y_train,\n",
    "        epochs=default_config[\"epochs\"],\n",
    "        batch_size=default_config[\"batch_size\"],\n",
    "        validation_data=(X_valid, y_valid),\n",
    "        verbose=verbose,\n",
    "    ).history\n",
    "\n",
    "    return model, history\n"
   ]
  },
  {
   "cell_type": "code",
   "execution_count": 16,
   "id": "79aa48ff-dc98-4d2d-96b3-bddfea997e6d",
   "metadata": {},
   "outputs": [],
   "source": [
    "# import tensorflow as tf\n",
    "# x = tf.constant(train_target)\n",
    "# y = tf.constant(1.1*train_target)\n",
    "# print(x.shape)\n",
    "\n",
    "# sd = tf.square(x - y)\n",
    "# print(sd.shape)\n",
    "# print(tf.reduce_mean(sd, axis=0)[0], tf.reduce_mean(sd, axis=0)[1])"
   ]
  },
  {
   "cell_type": "code",
   "execution_count": 17,
   "id": "979e76dc-cbba-40fd-b436-25a204796ac3",
   "metadata": {},
   "outputs": [],
   "source": [
    "# tf.reduce_mean(sd, axis=0)"
   ]
  },
  {
   "cell_type": "code",
   "execution_count": 18,
   "id": "6c3336cb-8023-4049-9865-d5a7aba377f3",
   "metadata": {},
   "outputs": [
    {
     "name": "stdout",
     "output_type": "stream",
     "text": [
      "Model: \"sequential_1\"\n",
      "_________________________________________________________________\n",
      " Layer (type)                Output Shape              Param #   \n",
      "=================================================================\n",
      " conv2d_5 (Conv2D)           (None, 512, 512, 128)     1280      \n",
      "                                                                 \n",
      " conv2d_6 (Conv2D)           (None, 256, 256, 64)      73792     \n",
      "                                                                 \n",
      " conv2d_7 (Conv2D)           (None, 64, 64, 64)        36928     \n",
      "                                                                 \n",
      " conv2d_8 (Conv2D)           (None, 16, 16, 64)        36928     \n",
      "                                                                 \n",
      " conv2d_9 (Conv2D)           (None, 4, 4, 64)          36928     \n",
      "                                                                 \n",
      " flatten_1 (Flatten)         (None, 1024)              0         \n",
      "                                                                 \n",
      " dense_4 (Dense)             (None, 262144)            268697600 \n",
      "                                                                 \n",
      " dense_5 (Dense)             (None, 128)               33554560  \n",
      "                                                                 \n",
      " dense_6 (Dense)             (None, 64)                8256      \n",
      "                                                                 \n",
      " dense_7 (Dense)             (None, 2)                 130       \n",
      "                                                                 \n",
      "=================================================================\n",
      "Total params: 302,446,402\n",
      "Trainable params: 302,446,402\n",
      "Non-trainable params: 0\n",
      "_________________________________________________________________\n",
      "Epoch 1/5\n",
      "90/90 [==============================] - 12s 23ms/step - loss: 0.0362 - metric1: 0.0540 - metric2: 0.0184 - val_loss: 0.0120 - val_metric1: 0.0224 - val_metric2: 0.0016\n",
      "Epoch 2/5\n",
      "90/90 [==============================] - 2s 21ms/step - loss: 0.0093 - metric1: 0.0184 - metric2: 2.6506e-04 - val_loss: 0.0166 - val_metric1: 0.0332 - val_metric2: 3.7920e-07\n",
      "Epoch 3/5\n",
      "90/90 [==============================] - 2s 21ms/step - loss: 0.0060 - metric1: 0.0119 - metric2: 6.2142e-05 - val_loss: 0.0047 - val_metric1: 0.0094 - val_metric2: 2.9845e-05\n",
      "Epoch 4/5\n",
      "90/90 [==============================] - 2s 22ms/step - loss: 0.0065 - metric1: 0.0129 - metric2: 7.8490e-05 - val_loss: 0.0058 - val_metric1: 0.0114 - val_metric2: 1.7391e-04\n",
      "Epoch 5/5\n",
      "90/90 [==============================] - 2s 21ms/step - loss: 0.0057 - metric1: 0.0114 - metric2: 5.9821e-05 - val_loss: 0.0059 - val_metric1: 0.0118 - val_metric2: 2.9492e-05\n"
     ]
    }
   ],
   "source": [
    "model, history = build_and_train_model(config={}, verbose=1)"
   ]
  },
  {
   "cell_type": "code",
   "execution_count": 19,
   "id": "416a1084-5f58-474f-8e7c-2aab3e29f5d0",
   "metadata": {},
   "outputs": [
    {
     "data": {
      "text/plain": [
       "-0.011759782209992409"
      ]
     },
     "execution_count": 19,
     "metadata": {},
     "output_type": "execute_result"
    }
   ],
   "source": [
    "-history[\"val_metric1\"][-1]"
   ]
  },
  {
   "cell_type": "code",
   "execution_count": 22,
   "id": "45256d6e-d65d-4e3a-9173-e77d2f6d9471",
   "metadata": {},
   "outputs": [
    {
     "data": {
      "text/plain": [
       "Configuration space object:\n",
       "  Hyperparameters:\n",
       "    activation, Type: Categorical, Choices: {sigmoid, tanh, relu}, Default: tanh\n",
       "    batch_size, Type: UniformInteger, Range: [2, 8], Default: 4\n",
       "    epochs, Type: UniformInteger, Range: [5, 100], Default: 20\n",
       "    learning_rate, Type: UniformFloat, Range: [1e-05, 0.01], Default: 0.001, on log-scale"
      ]
     },
     "execution_count": 22,
     "metadata": {},
     "output_type": "execute_result"
    }
   ],
   "source": [
    "from deephyper.problem import HpProblem\n",
    "\n",
    "\n",
    "problem = HpProblem()\n",
    "problem.add_hyperparameter([\"sigmoid\", \"tanh\", \"relu\"], \"activation\", default_value=\"tanh\")\n",
    "problem.add_hyperparameter((1e-5, 1e-2, \"log-uniform\"), \"learning_rate\", default_value=1e-3)\n",
    "problem.add_hyperparameter((2, 8), \"batch_size\", default_value=4)\n",
    "problem.add_hyperparameter((5, 100), \"epochs\", default_value=20)\n",
    "problem"
   ]
  },
  {
   "cell_type": "code",
   "execution_count": 23,
   "id": "aaada574-8840-491d-8de7-a255412ac107",
   "metadata": {},
   "outputs": [],
   "source": [
    "from keras.utils.layer_utils import count_params\n",
    "\n",
    "def run_multi_objective(config):\n",
    "    # important to avoid memory exploision\n",
    "    tf.keras.backend.clear_session()\n",
    "    \n",
    "    model, history = build_and_train_model(config, verbose=0)\n",
    "\n",
    "    # return -history[\"val_loss\"][-1], -count_params(model.trainable_weights)\n",
    "    return -history[\"val_loss\"][-1], -history[\"val_metric1\"][-1], -history[\"val_metric2\"][-1]"
   ]
  },
  {
   "cell_type": "code",
   "execution_count": 24,
   "id": "ecfbb14e-bd73-4480-b586-92ab79b6ebe5",
   "metadata": {},
   "outputs": [
    {
     "name": "stderr",
     "output_type": "stream",
     "text": [
      "/lcrc/project/cosmo_ai/nramachandra/Projects/PRISM/deephyper_repo/deephyper/evaluator/_evaluator.py:101: UserWarning: Applying nest-asyncio patch for IPython Shell!\n",
      "  warnings.warn(\n"
     ]
    },
    {
     "data": {
      "application/vnd.jupyter.widget-view+json": {
       "model_id": "996f15bde35b49e0a80ae3d51972f15f",
       "version_major": 2,
       "version_minor": 0
      },
      "text/plain": [
       "  0%|          | 0/20 [00:00<?, ?it/s]"
      ]
     },
     "metadata": {},
     "output_type": "display_data"
    }
   ],
   "source": [
    "from deephyper.search.hps import CBO\n",
    "\n",
    "search_2 = CBO(problem, run_multi_objective, initial_points=[problem.default_configuration], log_dir=\"cbo-moo-results\", random_state=42)\n",
    "results_2 = search_2.search(max_evals=20)"
   ]
  },
  {
   "cell_type": "code",
   "execution_count": 25,
   "id": "db83afe1-5b4d-4b0a-99dd-dcdd0c5b4963",
   "metadata": {},
   "outputs": [
    {
     "data": {
      "image/png": "[encoded data removed]",
      "text/plain": [
       "<Figure size 432x432 with 1 Axes>"
      ]
     },
     "metadata": {
      "needs_background": "light"
     },
     "output_type": "display_data"
    }
   ],
   "source": [
    "from deephyper.skopt.moo import pareto_front, hypervolume\n",
    "\n",
    "objvals = -np.asarray(results_2.filter(regex=r\"^objective_\\d+$\").values)\n",
    "pf_vals = pareto_front(objvals)\n",
    "plt.figure(figsize=(6,6))\n",
    "plt.rcParams.update({'font.size': 16})\n",
    "plt.scatter(objvals[:, 0], objvals[:, 1], c='k', alpha=0.5, s=50)\n",
    "plt.scatter(pf_vals[:, 0], pf_vals[:, 1], c='r', alpha=0.5, s=50, label=\"Pareto front\")\n",
    "plt.scatter(history[\"val_metric1\"][-1], history[\"val_metric2\"][-1], c='b', alpha=0.5, marker='x', s=100, label=\"Baseline\")\n",
    "plt.xlabel(\"val_metric1\")\n",
    "plt.ylabel(\"val_metric2\")\n",
    "# plt.gca().set_yscale('log')\n",
    "# plt.gca().set_xscale('log')\n",
    "plt.grid()\n",
    "plt.legend()\n",
    "plt.tight_layout()"
   ]
  },
  {
   "cell_type": "code",
   "execution_count": 26,
   "id": "c12dc009-3daf-46db-82a3-bec51ecd6bd2",
   "metadata": {},
   "outputs": [
    {
     "data": {
      "text/html": [
       "<div>\n",
       "<style scoped>\n",
       "    .dataframe tbody tr th:only-of-type {\n",
       "        vertical-align: middle;\n",
       "    }\n",
       "\n",
       "    .dataframe tbody tr th {\n",
       "        vertical-align: top;\n",
       "    }\n",
       "\n",
       "    .dataframe thead th {\n",
       "        text-align: right;\n",
       "    }\n",
       "</style>\n",
       "<table border=\"1\" class=\"dataframe\">\n",
       "  <thead>\n",
       "    <tr style=\"text-align: right;\">\n",
       "      <th></th>\n",
       "      <th>activation</th>\n",
       "      <th>batch_size</th>\n",
       "      <th>epochs</th>\n",
       "      <th>learning_rate</th>\n",
       "      <th>job_id</th>\n",
       "      <th>objective_0</th>\n",
       "      <th>objective_1</th>\n",
       "      <th>objective_2</th>\n",
       "      <th>timestamp_submit</th>\n",
       "      <th>timestamp_gather</th>\n",
       "    </tr>\n",
       "  </thead>\n",
       "  <tbody>\n",
       "    <tr>\n",
       "      <th>17</th>\n",
       "      <td>relu</td>\n",
       "      <td>2</td>\n",
       "      <td>95</td>\n",
       "      <td>0.003468</td>\n",
       "      <td>18</td>\n",
       "      <td>-0.004663</td>\n",
       "      <td>-0.009327</td>\n",
       "      <td>-3.730629e-08</td>\n",
       "      <td>1679.630181</td>\n",
       "      <td>1860.285095</td>\n",
       "    </tr>\n",
       "    <tr>\n",
       "      <th>14</th>\n",
       "      <td>relu</td>\n",
       "      <td>2</td>\n",
       "      <td>92</td>\n",
       "      <td>0.007625</td>\n",
       "      <td>15</td>\n",
       "      <td>-0.006295</td>\n",
       "      <td>-0.012591</td>\n",
       "      <td>-1.013514e-08</td>\n",
       "      <td>1279.974769</td>\n",
       "      <td>1455.824676</td>\n",
       "    </tr>\n",
       "  </tbody>\n",
       "</table>\n",
       "</div>"
      ],
      "text/plain": [
       "   activation  batch_size  epochs  learning_rate  job_id  objective_0  \\\n",
       "17       relu           2      95       0.003468      18    -0.004663   \n",
       "14       relu           2      92       0.007625      15    -0.006295   \n",
       "\n",
       "    objective_1   objective_2  timestamp_submit  timestamp_gather  \n",
       "17    -0.009327 -3.730629e-08       1679.630181       1860.285095  \n",
       "14    -0.012591 -1.013514e-08       1279.974769       1455.824676  "
      ]
     },
     "execution_count": 26,
     "metadata": {},
     "output_type": "execute_result"
    }
   ],
   "source": [
    "from deephyper.skopt.moo import non_dominated_set\n",
    "\n",
    "nds = non_dominated_set(objvals, return_mask=False)\n",
    "non_dominated_configurations = results_2.iloc[nds]\n",
    "non_dominated_configurations"
   ]
  },
  {
   "cell_type": "markdown",
   "id": "65ffd2bd-4958-4844-b79b-d9a3ca2e66a2",
   "metadata": {},
   "source": [
    "## Change the scalarization strategy to one that uses multiple weight vectors to scalarize the objective functions."
   ]
  },
  {
   "cell_type": "code",
   "execution_count": 27,
   "id": "cca01642-247e-4749-a481-ac44aa6480f6",
   "metadata": {},
   "outputs": [
    {
     "data": {
      "application/vnd.jupyter.widget-view+json": {
       "model_id": "065b8a4ffb1a452794724f4db9bca446",
       "version_major": 2,
       "version_minor": 0
      },
      "text/plain": [
       "  0%|          | 0/100 [00:00<?, ?it/s]"
      ]
     },
     "metadata": {},
     "output_type": "display_data"
    }
   ],
   "source": [
    "search_test_func_2 = CBO(problem, run_multi_objective, surrogate_model=\"GP\", moo_scalarization_strategy=\"rChebyshev\", initial_points=[problem.default_configuration], log_dir=\"cbo-moo-results\", random_state=42)\n",
    "results_test_func_2 = search_test_func_2.search(max_evals=100)"
   ]
  },
  {
   "cell_type": "code",
   "execution_count": 28,
   "id": "e9fcfe09-53d6-49df-b0f7-a7532762b6d6",
   "metadata": {},
   "outputs": [
    {
     "data": {
      "image/png": "[encoded data removed]",
      "text/plain": [
       "<Figure size 432x432 with 1 Axes>"
      ]
     },
     "metadata": {
      "needs_background": "light"
     },
     "output_type": "display_data"
    }
   ],
   "source": [
    "from deephyper.skopt.moo import pareto_front, hypervolume\n",
    "\n",
    "objvals = -np.asarray(results_test_func_2.filter(regex=r\"^objective_\\d+$\").values)\n",
    "pf_vals = pareto_front(objvals)\n",
    "plt.figure(figsize=(6,6))\n",
    "plt.rcParams.update({'font.size': 16})\n",
    "plt.scatter(objvals[:, 0], objvals[:, 1], c='k', alpha=0.5, s=50)\n",
    "plt.scatter(pf_vals[:, 0], pf_vals[:, 1], c='r', alpha=0.5, s=50, label=\"Pareto front\")\n",
    "plt.scatter(history[\"val_metric1\"][-1], history[\"val_metric2\"][-1], c='b', alpha=0.5, marker='x', s=100, label=\"Baseline\")\n",
    "plt.xlabel(\"val_metric1\")\n",
    "plt.ylabel(\"val_metric2\")\n",
    "# plt.gca().set_yscale('log')\n",
    "# plt.gca().set_xscale('log')\n",
    "plt.grid()\n",
    "plt.legend()\n",
    "plt.tight_layout()"
   ]
  },
  {
   "cell_type": "code",
   "execution_count": 29,
   "id": "9a712968-a101-42c2-9316-841e651bb140",
   "metadata": {},
   "outputs": [
    {
     "data": {
      "image/png": "[encoded data removed]",
      "text/plain": [
       "<Figure size 432x432 with 1 Axes>"
      ]
     },
     "metadata": {
      "needs_background": "light"
     },
     "output_type": "display_data"
    }
   ],
   "source": [
    "def plot_objective_space(results):\n",
    "    fv = -np.asarray(results.filter(regex=r\"^objective_\\d+$\").values)\n",
    "    pf = pareto_front(fv)\n",
    "    plt.figure(figsize=(6,6))\n",
    "    plt.rcParams.update({'font.size': 16})\n",
    "    plt.scatter(fv[:, 0], fv[:, 1], c='k', alpha=0.5, s=50)\n",
    "    plt.scatter(pf[:, 0], pf[:, 1], c='r', alpha=0.5, s=50, label=\"Pareto front\")\n",
    "    plt.xlabel(\"Objective 1\")\n",
    "    plt.ylabel(\"Objective 2\")\n",
    "    # plt.gca().set_xlim([0, 1])\n",
    "    # plt.gca().set_ylim([0, 1])\n",
    "    plt.grid()\n",
    "    plt.legend()\n",
    "    plt.tight_layout()\n",
    "    \n",
    "plot_objective_space(results_test_func_2)"
   ]
  },
  {
   "cell_type": "code",
   "execution_count": 30,
   "id": "9b7bd7b7-8981-4755-8188-53e36ea40e11",
   "metadata": {},
   "outputs": [
    {
     "name": "stderr",
     "output_type": "stream",
     "text": [
      "/tmp/ipykernel_1874613/1602532688.py:4: DeprecationWarning: elementwise comparison failed; this will raise an error in the future.\n",
      "  results_test_func_2.iloc[np.where(fv == pf)]\n"
     ]
    },
    {
     "data": {
      "text/html": [
       "<div>\n",
       "<style scoped>\n",
       "    .dataframe tbody tr th:only-of-type {\n",
       "        vertical-align: middle;\n",
       "    }\n",
       "\n",
       "    .dataframe tbody tr th {\n",
       "        vertical-align: top;\n",
       "    }\n",
       "\n",
       "    .dataframe thead th {\n",
       "        text-align: right;\n",
       "    }\n",
       "</style>\n",
       "<table border=\"1\" class=\"dataframe\">\n",
       "  <thead>\n",
       "    <tr style=\"text-align: right;\">\n",
       "      <th></th>\n",
       "      <th>activation</th>\n",
       "      <th>batch_size</th>\n",
       "      <th>epochs</th>\n",
       "      <th>learning_rate</th>\n",
       "      <th>job_id</th>\n",
       "      <th>objective_0</th>\n",
       "      <th>objective_1</th>\n",
       "      <th>objective_2</th>\n",
       "      <th>timestamp_submit</th>\n",
       "      <th>timestamp_gather</th>\n",
       "    </tr>\n",
       "  </thead>\n",
       "  <tbody>\n",
       "  </tbody>\n",
       "</table>\n",
       "</div>"
      ],
      "text/plain": [
       "Empty DataFrame\n",
       "Columns: [activation, batch_size, epochs, learning_rate, job_id, objective_0, objective_1, objective_2, timestamp_submit, timestamp_gather]\n",
       "Index: []"
      ]
     },
     "execution_count": 30,
     "metadata": {},
     "output_type": "execute_result"
    }
   ],
   "source": [
    "fv = -np.asarray(results_test_func_2.filter(regex=r\"^objective_\\d+$\").values)\n",
    "pf = pareto_front(fv)\n",
    "\n",
    "results_test_func_2.iloc[np.where(fv == pf)]"
   ]
  },
  {
   "cell_type": "code",
   "execution_count": null,
   "id": "c1b0f662-886c-4617-bd3b-1d33dfde9827",
   "metadata": {},
   "outputs": [],
   "source": []
  }
 ],
 "metadata": {
  "kernelspec": {
   "display_name": "Python 3 (ipykernel)",
   "language": "python",
   "name": "python3"
  },
  "language_info": {
   "codemirror_mode": {
    "name": "ipython",
    "version": 3
   },
   "file_extension": ".py",
   "mimetype": "text/x-python",
   "name": "python",
   "nbconvert_exporter": "python",
   "pygments_lexer": "ipython3",
   "version": "3.9.7"
  }
 },
 "nbformat": 4,
 "nbformat_minor": 5
}
