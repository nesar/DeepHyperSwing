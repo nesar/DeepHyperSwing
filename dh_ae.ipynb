{
 "cells": [
  {
   "cell_type": "code",
   "execution_count": 1,
   "id": "678468de-c8ce-4d58-a7df-45b69bbac0f5",
   "metadata": {},
   "outputs": [],
   "source": [
    "import nest_asyncio\n",
    "nest_asyncio.apply()"
   ]
  },
  {
   "cell_type": "code",
   "execution_count": 2,
   "id": "f2934bbc-8644-4f67-90d7-73382b2bde40",
   "metadata": {},
   "outputs": [
    {
     "data": {
      "text/plain": [
       "'0.3.3'"
      ]
     },
     "execution_count": 2,
     "metadata": {},
     "output_type": "execute_result"
    }
   ],
   "source": [
    "import deephyper\n",
    "deephyper.__version__"
   ]
  },
  {
   "cell_type": "code",
   "execution_count": 3,
   "id": "fed9ad68-104c-4d7c-80ad-fac8eb405621",
   "metadata": {},
   "outputs": [],
   "source": [
    "import numpy as np\n",
    "import matplotlib.pylab as plt\n",
    "\n",
    "def load_data(nSamples=100, nGrid=128, train_test_split= 0.90):\n",
    "    \n",
    "    \n",
    "    dirIn = '/lcrc/project/cosmo_ai/nramachandra/Projects/PRISM/ellipsoidal_void/data/'\n",
    "\n",
    "    temp_data = np.load(dirIn + 'random_ellipsoids_3d.npy')[:nSamples]\n",
    "    radii_data = np.load(dirIn + 'random_ellipsoids_3d_radii.npy')[:nSamples]\n",
    "\n",
    "\n",
    "    split = np.int(train_test_split*temp_data.shape[0])\n",
    "\n",
    "    train_data = temp_data[0:split, :, :, :].astype('float32')\n",
    "    train_target = radii_data[0:split, :].astype('float32')\n",
    "    test_data = temp_data[split:, :, :, :].astype('float32')\n",
    "    test_target = radii_data[split:, :].astype('float32')\n",
    "\n",
    "    # return (train_data[:, :nGrid, :nGrid, :nGrid], train_target), (test_data[:, :nGrid, :nGrid, :nGrid], test_target)\n",
    "    # return (train_data[:, :10, 0, 0], train_data[:, :10, 0, 0]), (test_data[:, :10, 0, 0], test_data[:, :10, 0, 0])\n",
    "    # return (train_data[:, :nGrid, :nGrid, :nGrid], train_data[:, :nGrid, :nGrid, :nGrid]), (test_data[:, :nGrid, :nGrid, :nGrid], test_data[:, :nGrid, :nGrid, :nGrid])\n",
    "\n",
    "    train_images = train_data[:, :nGrid, :nGrid, :nGrid]\n",
    "    test_images = test_data[:, :nGrid, :nGrid, :nGrid]\n",
    "    \n",
    "    loaddata = 'average' ## 'average' or 'log' for different normalization\n",
    "\n",
    "\n",
    "    if loaddata == 'average':\n",
    "    # RESCALING IMAGES\n",
    "    #print(train_images[0,:,:,:,0])\n",
    "        tmin = train_images.min()\n",
    "        tmax = train_images.max()\n",
    "        print('old min-max:', tmin, tmax)\n",
    "        train_images = (train_images - tmin) / (tmax - tmin) # Normalize the images to [-1, 1]\n",
    "        test_images = (test_images - tmin) / (tmax - tmin)\n",
    "        print('new min-max:', train_images.min(), train_images.max())\n",
    "\n",
    "        shape0 = train_images.shape[0]\n",
    "        # swe_train_data = train_images.reshape(shape0, nGrid, nGrid, nGrid, 1)\n",
    "        swe_train_data = train_images.reshape(shape0, nGrid, nGrid, nGrid)\n",
    "\n",
    "        shape1 = test_images.shape[0]\n",
    "        # swe_test_data = test_images.reshape(shape1, nGrid, nGrid, nGrid, 1)\n",
    "        swe_test_data = test_images.reshape(shape1, nGrid, nGrid, nGrid)\n",
    "        \n",
    "    \n",
    "    return (swe_train_data, swe_train_data), (swe_test_data, swe_test_data)\n",
    "    \n",
    "            \n"
   ]
  },
  {
   "cell_type": "code",
   "execution_count": 4,
   "id": "291218b1-e5bb-4f37-9b09-e42730d5154b",
   "metadata": {},
   "outputs": [
    {
     "name": "stderr",
     "output_type": "stream",
     "text": [
      "/tmp/ipykernel_380429/4190466832.py:13: DeprecationWarning: `np.int` is a deprecated alias for the builtin `int`. To silence this warning, use `int` by itself. Doing this will not modify any behavior and is safe. When replacing `np.int`, you may wish to use e.g. `np.int64` or `np.int32` to specify the precision. If you wish to review your current use, check the release note link for additional information.\n",
      "Deprecated in NumPy 1.20; for more details and guidance: https://numpy.org/devdocs/release/1.20.0-notes.html#deprecations\n",
      "  split = np.int(train_test_split*temp_data.shape[0])\n"
     ]
    },
    {
     "name": "stdout",
     "output_type": "stream",
     "text": [
      "old min-max: 0.0 1.0\n",
      "new min-max: 0.0 1.0\n",
      "(90, 128, 128, 128) (10, 128, 128, 128)\n"
     ]
    }
   ],
   "source": [
    "(train_data, _), (test_data, _) = load_data(nSamples=100, nGrid=128, train_test_split= 0.90)\n",
    "print(train_data.shape, test_data.shape)"
   ]
  },
  {
   "cell_type": "code",
   "execution_count": 5,
   "id": "a67a0840-d9ab-4e21-ae3b-9c038bce709c",
   "metadata": {},
   "outputs": [],
   "source": [
    "num_epochs = 200\n",
    "batch_size = 2 #4 #256\n",
    "learning_rate = 1e-4 #1e-4\n",
    "decay_rate = 0.1\n",
    "\n",
    "# latent_dim = 8 #16 ###\n",
    "# epsilon_mean = 0.1\n",
    "# epsilon_std = 1e-4 #1e-4\n",
    "nGrid= 128"
   ]
  },
  {
   "cell_type": "code",
   "execution_count": null,
   "id": "839e5bda-9b58-4492-b571-ead81527a357",
   "metadata": {},
   "outputs": [],
   "source": []
  },
  {
   "cell_type": "code",
   "execution_count": 6,
   "id": "fd6a2d4b-fdb7-4b05-8a42-d6d1d3329b75",
   "metadata": {},
   "outputs": [],
   "source": [
    "import tensorflow as tf\n",
    "\n",
    "from deephyper.nas import KSearchSpace\n",
    "from deephyper.nas.node import ConstantNode, VariableNode\n",
    "from deephyper.nas.operation import Identity, operation\n",
    "\n",
    "Dense = operation(tf.keras.layers.Dense)\n",
    "Reshape = operation(tf.keras.layers.Reshape)\n",
    "Flatten = operation(tf.keras.layers.Flatten)\n",
    "Conv3D = operation(tf.keras.layers.Conv3D)\n",
    "Conv3DTranspose = operation(tf.keras.layers.Conv3DTranspose)\n"
   ]
  },
  {
   "cell_type": "code",
   "execution_count": null,
   "id": "14f9ed8e-d0a6-40a5-a37d-9def3cd912f5",
   "metadata": {},
   "outputs": [],
   "source": []
  },
  {
   "cell_type": "code",
   "execution_count": 7,
   "id": "7459a97c-70cb-4c34-8648-2bc3505a74c1",
   "metadata": {},
   "outputs": [
    {
     "name": "stdout",
     "output_type": "stream",
     "text": [
      "7 GPUs are available.\n"
     ]
    }
   ],
   "source": [
    "available_gpus = tf.config.list_physical_devices(\"GPU\")\n",
    "n_gpus = len(available_gpus)\n",
    "if n_gpus > 1:\n",
    "    n_gpus -= 1\n",
    "is_gpu_available = n_gpus > 0\n",
    "\n",
    "if is_gpu_available:\n",
    "    print(f\"{n_gpus} GPU{'s are' if n_gpus > 1 else ' is'} available.\")\n",
    "else:\n",
    "    print(\"No GPU available\")"
   ]
  },
  {
   "cell_type": "code",
   "execution_count": 8,
   "id": "505bd022-652d-4461-904f-b11da484f8d9",
   "metadata": {},
   "outputs": [
    {
     "name": "stderr",
     "output_type": "stream",
     "text": [
      "2022-06-20 10:05:52,026\tINFO services.py:1412 -- View the Ray dashboard at \u001b[1m\u001b[32mhttp://127.0.0.1:8265\u001b[39m\u001b[22m\n"
     ]
    }
   ],
   "source": [
    "import ray\n",
    "\n",
    "if not(ray.is_initialized()):\n",
    "    if is_gpu_available:\n",
    "        ray.init(num_cpus=n_gpus, num_gpus=n_gpus, log_to_driver=False)            \n",
    "    else:\n",
    "        ray.init(num_cpus=2, log_to_driver=False)"
   ]
  },
  {
   "cell_type": "code",
   "execution_count": 9,
   "id": "1e568b4a-f19c-4e4f-895e-56247e6d370a",
   "metadata": {},
   "outputs": [],
   "source": [
    "\n",
    "\n",
    "# class SupervisedRegAutoEncoderSpace(KSearchSpace):\n",
    "#     def __init__(\n",
    "#         self,\n",
    "#         input_shape,\n",
    "#         output_shape,\n",
    "#         batch_size=None,\n",
    "#         seed=None,\n",
    "#         units=[128, 64, 32, 16, 8, 16, 32, 64, 128],\n",
    "#         num_layers=5,\n",
    "#     ):\n",
    "#         super().__init__(input_shape, output_shape, batch_size=batch_size, seed=seed)\n",
    "\n",
    "#         self.units = units\n",
    "#         self.num_layers = num_layers\n",
    "\n",
    "#     def build(self):\n",
    "\n",
    "#         inp = self.input_nodes[0]\n",
    "\n",
    "#         # auto-encoder\n",
    "#         units = [128, 64, 32, 16, 8, 16, 32, 64, 128]\n",
    "#         prev_node = inp\n",
    "#         d = 1\n",
    "#         for i in range(len(units)):\n",
    "#             vnode = VariableNode()\n",
    "#             vnode.add_op(Identity())\n",
    "#             if d == 1 and units[i] < units[i + 1]:\n",
    "#                 d = -1\n",
    "#                 for u in range(min(2, units[i]), max(2, units[i]) + 1, 2):\n",
    "#                     vnode.add_op(Dense(u, tf.nn.relu))\n",
    "#                 latente_space = vnode\n",
    "#             else:\n",
    "#                 for u in range(\n",
    "#                     min(units[i], units[i + d]), max(units[i], units[i + d]) + 1, 2\n",
    "#                 ):\n",
    "#                     vnode.add_op(Dense(u, tf.nn.relu))\n",
    "#             self.connect(prev_node, vnode)\n",
    "#             prev_node = vnode\n",
    "\n",
    "#         # out2 = ConstantNode(op=Dense(self.output_shape[0][0], name=\"output_0\"))\n",
    "#         out2 = ConstantNode(op=Dense(self.output_shape[0], name=\"output_0\"))\n",
    "\n",
    "#         self.connect(prev_node, out2)\n",
    "\n",
    "# #         # regressor\n",
    "# #         prev_node = latente_space\n",
    "# #         # prev_node = inp\n",
    "# #         for _ in range(self.num_layers):\n",
    "# #             vnode = VariableNode()\n",
    "# #             for i in range(16, 129, 16):\n",
    "# #                 vnode.add_op(Dense(i, tf.nn.relu))\n",
    "\n",
    "# #             self.connect(prev_node, vnode)\n",
    "# #             prev_node = vnode\n",
    "\n",
    "# #         out1 = ConstantNode(op=Dense(self.output_shape[1][0], name=\"output_1\"))\n",
    "# #         self.connect(prev_node, out1)\n",
    "\n",
    "#         return self\n",
    "\n"
   ]
  },
  {
   "cell_type": "code",
   "execution_count": 10,
   "id": "d4f03b85-31ec-467a-b250-e447ad4a78bc",
   "metadata": {},
   "outputs": [],
   "source": [
    "\n",
    "\n",
    "class AutoEncoderSpace(KSearchSpace):\n",
    "    def __init__(\n",
    "        self,\n",
    "        input_shape,\n",
    "        output_shape,\n",
    "        batch_size=None,\n",
    "        seed=None,\n",
    "        # units=[128, 64, 32, 16, 8, 16, 32, 64, 128],\n",
    "        units=[64, 32, 16, 8, 16, 32, 64],\n",
    "        num_layers=6,\n",
    "    ):\n",
    "        super().__init__(input_shape, output_shape, batch_size=batch_size, seed=seed)\n",
    "\n",
    "        self.units = units\n",
    "        self.num_layers = num_layers\n",
    "\n",
    "    def build(self):\n",
    "\n",
    "        inp = self.input_nodes[0]\n",
    "          \n",
    "        conv1 = ConstantNode(Conv3D(filters=128, kernel_size=3, padding='same', activation='relu'))\n",
    "        self.connect(inp, conv1)\n",
    "        \n",
    "        conv2 = ConstantNode(Conv3D(filters=64, kernel_size=3, strides=4, padding='same', activation='relu'))\n",
    "        self.connect(conv1, conv2)\n",
    "        \n",
    "        conv3 = ConstantNode(Conv3D(filters=64, kernel_size=3, strides=2, padding='same', activation='relu'))\n",
    "        self.connect(conv2, conv3)\n",
    "        \n",
    "        conv4 = ConstantNode(Conv3D(filters=64, kernel_size=3, strides=2, padding='same', activation='relu'))\n",
    "        self.connect(conv3, conv4)\n",
    "        \n",
    "        flat1 = ConstantNode(Flatten())\n",
    "        self.connect(conv4, flat1)\n",
    "        \n",
    "        \n",
    "        \n",
    "\n",
    "        # auto-encoder\n",
    "        # units = [128, 64, 32, 16, 8, 16, 32, 64, 128]\n",
    "        # units = [64, 32, 16, 8, 16, 32, 64]\n",
    "        units = [64, 32, 64]\n",
    "\n",
    "        # prev_node = inp\n",
    "        prev_node = flat1\n",
    "\n",
    "        d = 1\n",
    "        for i in range(len(units)):\n",
    "            vnode = VariableNode()\n",
    "            vnode.add_op(Identity())\n",
    "            if d == 1 and units[i] < units[i + 1]:\n",
    "                d = -1\n",
    "                for u in range(min(2, units[i]), max(2, units[i]) + 1, 2):\n",
    "                    vnode.add_op(Dense(u, tf.nn.relu))\n",
    "                latente_space = vnode\n",
    "            else:\n",
    "                for u in range(min(units[i], units[i + d]), max(units[i], units[i + d]) + 1, 2):\n",
    "                    vnode.add_op(Dense(u, tf.nn.relu))\n",
    "            self.connect(prev_node, vnode)\n",
    "            prev_node = vnode\n",
    "            \n",
    "        #####################\n",
    "        # regressor\n",
    "        # prev_node = latente_space\n",
    "        # prev_node = inp\n",
    "        \n",
    "        for _ in range(self.num_layers):\n",
    "            vnode = VariableNode()\n",
    "            for i in range(16, 129, 16):\n",
    "                vnode.add_op(Dense(i, tf.nn.relu))\n",
    "\n",
    "            self.connect(prev_node, vnode)\n",
    "            prev_node = vnode\n",
    "\n",
    "        # out1 = ConstantNode(op=Dense(self.output_shape[1][0], name=\"output_1\"))\n",
    "        # self.connect(prev_node, out1)\n",
    "        \n",
    "        #####################\n",
    "        \n",
    "\n",
    "        out2 = ConstantNode(op=Dense(64, name=\"output_0\"))\n",
    "        self.connect(prev_node, out2)\n",
    "        \n",
    "        reshape1 = ConstantNode(Reshape(target_shape = (4,4,4,1)) )\n",
    "        self.connect(out2, reshape1)\n",
    "          \n",
    "        convT1 = ConstantNode(Conv3DTranspose(filters=64, kernel_size=3, strides=2, padding='same', activation='relu'))\n",
    "        self.connect(reshape1, convT1)\n",
    "        \n",
    "        convT2 = ConstantNode(Conv3DTranspose(filters=64, kernel_size=3, strides=2, padding='same', activation='relu'))\n",
    "        self.connect(convT1, convT2)\n",
    "        \n",
    "        convT3 = ConstantNode(Conv3DTranspose(filters=64, kernel_size=3, strides=4, padding='same', activation='relu'))\n",
    "        self.connect(convT2, convT3)\n",
    "        \n",
    "        convT4 = ConstantNode(Conv3DTranspose(filters=128, kernel_size=3, strides=2, padding='same', activation='relu'))\n",
    "        self.connect(convT3, convT4)\n",
    "\n",
    "        return self\n",
    "\n"
   ]
  },
  {
   "cell_type": "code",
   "execution_count": 11,
   "id": "33aa24d6-1564-4cd8-b196-887898348eed",
   "metadata": {},
   "outputs": [
    {
     "name": "stderr",
     "output_type": "stream",
     "text": [
      "/lcrc/project/cosmo_ai/nramachandra/Projects/PRISM/saul_tests/deephyper/deephyper/nas/_keras_search_space.py:182: RuntimeWarning: The output tensor of shape (None, 128, 128, 128, 128) doesn't match the expected shape (100, 128, 128, 128, 1)!\n",
      "  warnings.warn(\n",
      "E0620 10:06:00.642114372  380429 fork_posix.cc:76]           Other threads are currently calling into gRPC, skipping fork() handlers\n",
      "E0620 10:06:01.573842879  380429 fork_posix.cc:76]           Other threads are currently calling into gRPC, skipping fork() handlers\n"
     ]
    },
    {
     "data": {
      "image/png": "[encoded data removed]",
      "text/plain": [
       "<IPython.core.display.Image object>"
      ]
     },
     "execution_count": 11,
     "metadata": {},
     "output_type": "execute_result"
    }
   ],
   "source": [
    "import matplotlib.pyplot as plt\n",
    "import matplotlib.image as mpimg\n",
    "from tensorflow.keras.utils import plot_model\n",
    "\n",
    "# shapes = dict(input_shape=..., output_shape=...)\n",
    "# shapes = dict(input_shape=(nGrid, nGrid, nGrid, 1, ), output_shape=(nGrid, nGrid, nGrid, 1, ))\n",
    "shapes = dict(input_shape=(100, nGrid, nGrid, nGrid, 1), output_shape=(100, nGrid, nGrid, nGrid, 1))\n",
    "\n",
    "space = AutoEncoderSpace(**shapes).build()\n",
    "model = space.sample()\n",
    "plot_model(model, show_shapes=False, show_layer_names=False)"
   ]
  },
  {
   "cell_type": "code",
   "execution_count": 12,
   "id": "f45580ae-3145-4274-8e72-4bcc77507820",
   "metadata": {},
   "outputs": [
    {
     "name": "stderr",
     "output_type": "stream",
     "text": [
      "/lcrc/project/cosmo_ai/nramachandra/Projects/PRISM/saul_tests/deephyper/deephyper/nas/_keras_search_space.py:182: RuntimeWarning: The output tensor of shape (None, 128, 128, 128, 128) doesn't match the expected shape (90, 128, 128, 128, 1)!\n",
      "  warnings.warn(\n",
      "E0620 10:06:02.021163788  380429 fork_posix.cc:76]           Other threads are currently calling into gRPC, skipping fork() handlers\n",
      "E0620 10:06:02.114545372  380429 fork_posix.cc:76]           Other threads are currently calling into gRPC, skipping fork() handlers\n"
     ]
    },
    {
     "data": {
      "image/png": "[encoded data removed]",
      "text/plain": [
       "<IPython.core.display.Image object>"
      ]
     },
     "execution_count": 12,
     "metadata": {},
     "output_type": "execute_result"
    }
   ],
   "source": [
    "from tensorflow.keras.utils import plot_model\n",
    "\n",
    "# shapes = dict(input_shape=(10,), output_shape=(10,))\n",
    "shapes = dict(input_shape=(90, nGrid, nGrid, nGrid, 1), output_shape=(90, nGrid, nGrid, nGrid, 1))\n",
    "space = AutoEncoderSpace(**shapes).build()\n",
    "model = space.sample()\n",
    "plot_model(model)"
   ]
  },
  {
   "cell_type": "code",
   "execution_count": 13,
   "id": "820bd0fb-0f2e-4210-a70b-9d854886fe6c",
   "metadata": {},
   "outputs": [
    {
     "name": "stderr",
     "output_type": "stream",
     "text": [
      "/lcrc/project/cosmo_ai/nramachandra/Projects/PRISM/saul_tests/deephyper/deephyper/nas/_keras_search_space.py:182: RuntimeWarning: The output tensor of shape (None, 128, 128, 128, 128) doesn't match the expected shape (128, 128, 128, 1)!\n",
      "  warnings.warn(\n",
      "E0620 10:06:02.493699346  380429 fork_posix.cc:76]           Other threads are currently calling into gRPC, skipping fork() handlers\n",
      "E0620 10:06:02.587241644  380429 fork_posix.cc:76]           Other threads are currently calling into gRPC, skipping fork() handlers\n",
      "/lcrc/project/cosmo_ai/nramachandra/Projects/PRISM/saul_tests/deephyper/deephyper/nas/_keras_search_space.py:182: RuntimeWarning: The output tensor of shape (None, 128, 128, 128, 128) doesn't match the expected shape (128, 128, 128, 1)!\n",
      "  warnings.warn(\n",
      "E0620 10:06:02.854733286  380429 fork_posix.cc:76]           Other threads are currently calling into gRPC, skipping fork() handlers\n",
      "E0620 10:06:02.947598863  380429 fork_posix.cc:76]           Other threads are currently calling into gRPC, skipping fork() handlers\n",
      "/lcrc/project/cosmo_ai/nramachandra/Projects/PRISM/saul_tests/deephyper/deephyper/nas/_keras_search_space.py:182: RuntimeWarning: The output tensor of shape (None, 128, 128, 128, 128) doesn't match the expected shape (128, 128, 128, 1)!\n",
      "  warnings.warn(\n",
      "E0620 10:06:03.211801451  380429 fork_posix.cc:76]           Other threads are currently calling into gRPC, skipping fork() handlers\n",
      "E0620 10:06:03.304975451  380429 fork_posix.cc:76]           Other threads are currently calling into gRPC, skipping fork() handlers\n",
      "/lcrc/project/cosmo_ai/nramachandra/Projects/PRISM/saul_tests/deephyper/deephyper/nas/_keras_search_space.py:182: RuntimeWarning: The output tensor of shape (None, 128, 128, 128, 128) doesn't match the expected shape (128, 128, 128, 1)!\n",
      "  warnings.warn(\n",
      "E0620 10:06:03.567592965  380429 fork_posix.cc:76]           Other threads are currently calling into gRPC, skipping fork() handlers\n",
      "E0620 10:06:03.659933717  380429 fork_posix.cc:76]           Other threads are currently calling into gRPC, skipping fork() handlers\n"
     ]
    },
    {
     "data": {
      "image/png": "[encoded data removed]",
      "text/plain": [
       "<Figure size 1080x1080 with 4 Axes>"
      ]
     },
     "metadata": {
      "needs_background": "light"
     },
     "output_type": "display_data"
    }
   ],
   "source": [
    "import matplotlib.image as mpimg\n",
    "from tensorflow.keras.utils import plot_model\n",
    "\n",
    "shapes = dict(input_shape=(nGrid, nGrid, nGrid, 1, ), output_shape=(nGrid, nGrid, nGrid, 1, ))\n",
    "space = AutoEncoderSpace(**shapes).build()\n",
    "    \n",
    "\n",
    "images = []\n",
    "plt.figure(figsize=(15,15))\n",
    "for i in range(4):\n",
    "    \n",
    "    model = space.sample()\n",
    "    plt.subplot(2,2,i+1)\n",
    "    plot_model(model, \"random_model\" + str(i) +\".png\", show_shapes=False, show_layer_names=False)\n",
    "    image = mpimg.imread(\"random_model\" + str(i) +\".png\")\n",
    "    plt.imshow(image)\n",
    "    plt.axis('off')\n",
    "\n",
    "plt.show()"
   ]
  },
  {
   "cell_type": "code",
   "execution_count": 14,
   "id": "71fb4fa7-4c83-408b-b8ec-ab6164c6fcdd",
   "metadata": {},
   "outputs": [
    {
     "data": {
      "text/plain": [
       "Problem is:\n",
       "    - search space   : __main__.AutoEncoderSpace\n",
       "    - data loading   : __main__.load_data\n",
       "    - preprocessing  : __main__.stdscaler\n",
       "    - hyperparameters: \n",
       "        * verbose: 0\n",
       "        * batch_size: 2\n",
       "        * learning_rate: 0.0001\n",
       "        * optimizer: adam\n",
       "        * num_epochs: 200\n",
       "        * callbacks: {'EarlyStopping': {'monitor': 'val_loss', 'mode': 'min', 'verbose': 0, 'patience': 30}}\n",
       "    - loss           : mse\n",
       "    - metrics        : \n",
       "    - objective      : -val_loss"
      ]
     },
     "execution_count": 14,
     "metadata": {},
     "output_type": "execute_result"
    }
   ],
   "source": [
    "from deephyper.problem import NaProblem\n",
    "\n",
    "\n",
    "def stdscaler():\n",
    "    return StandardScaler()\n",
    "\n",
    "\n",
    "problem = NaProblem()\n",
    "\n",
    "# Bind a function which returns (train_input, train_output), (valid_input, valid_output)\n",
    "# problem.load_data(load_data_train_valid)\n",
    "problem.load_data(load_data)\n",
    "\n",
    "\n",
    "# Bind a function which return a scikit-learn preprocessor (with fit, fit_transform, inv_transform...etc)\n",
    "problem.preprocessing(stdscaler)\n",
    "\n",
    "# Bind a function which returns a search space and give some arguments for the `build` method\n",
    "# problem.search_space(RegressionSpace, num_layers=3)\n",
    "problem.search_space(AutoEncoderSpace)\n",
    "\n",
    "# Define a set of fixed hyperparameters for all trained neural networks\n",
    "problem.hyperparameters(\n",
    "    batch_size=batch_size,\n",
    "    learning_rate=learning_rate,\n",
    "    optimizer=\"adam\",\n",
    "    num_epochs=num_epochs,\n",
    "    callbacks=dict(\n",
    "        EarlyStopping=dict(monitor=\"val_loss\", mode=\"min\", verbose=0, patience=30)\n",
    "    ),\n",
    ")\n",
    "\n",
    "# Define the loss to minimize\n",
    "problem.loss(\"mse\")\n",
    "\n",
    "# Define complementary metrics\n",
    "problem.metrics([])\n",
    "\n",
    "# Define the maximized objective. Here we take the negative of the validation loss.\n",
    "problem.objective(\"-val_loss\")\n",
    "\n",
    "problem"
   ]
  },
  {
   "cell_type": "code",
   "execution_count": 15,
   "id": "2ed7281b-cd00-4cea-9331-dc5310a8a9d8",
   "metadata": {},
   "outputs": [],
   "source": [
    "from deephyper.evaluator import Evaluator\n",
    "from deephyper.evaluator.callback import LoggerCallback\n",
    "\n",
    "\n",
    "def get_evaluator(run_function):\n",
    "    \n",
    "    # Default arguments for Ray: 1 worker and 1 worker per evaluation\n",
    "    method_kwargs = {\n",
    "        \"num_cpus\": 1, \n",
    "        \"num_cpus_per_task\": 1,\n",
    "        \"callbacks\": [LoggerCallback()] # To interactively follow the finished evaluations,\n",
    "    }\n",
    "\n",
    "    # If GPU devices are detected then it will create 'n_gpus' workers\n",
    "    # and use 1 worker for each evaluation\n",
    "    if is_gpu_available:\n",
    "        method_kwargs[\"num_cpus\"] = n_gpus\n",
    "        method_kwargs[\"num_gpus\"] = n_gpus\n",
    "        method_kwargs[\"num_cpus_per_task\"] = 1\n",
    "        method_kwargs[\"num_gpus_per_task\"] = 1\n",
    "\n",
    "    evaluator = Evaluator.create(\n",
    "        run_function, \n",
    "        method=\"ray\", \n",
    "        method_kwargs=method_kwargs\n",
    "    )\n",
    "    print(f\"Created new evaluator with {evaluator.num_workers} worker{'s' if evaluator.num_workers > 1 else ''} and config: {method_kwargs}\", )\n",
    "    \n",
    "    return evaluator"
   ]
  },
  {
   "cell_type": "code",
   "execution_count": 16,
   "id": "f02b320b-3df5-4380-b722-8fb9d837d15c",
   "metadata": {},
   "outputs": [],
   "source": [
    "results = {} # used to store the results of different search algorithms\n",
    "max_evals = 5 # maximum number of iteratins for all searches\n",
    "from deephyper.nas.run import run_base_trainer"
   ]
  },
  {
   "cell_type": "code",
   "execution_count": 17,
   "id": "fde82b3f-27b9-42e0-8f0d-dd7a0af81951",
   "metadata": {},
   "outputs": [
    {
     "name": "stdout",
     "output_type": "stream",
     "text": [
      "Created new evaluator with 7 workers and config: {'num_cpus': 7, 'num_cpus_per_task': 1, 'callbacks': [<deephyper.evaluator.callback.LoggerCallback object at 0x148a9c18ba90>], 'num_gpus': 7, 'num_gpus_per_task': 1}\n"
     ]
    },
    {
     "name": "stderr",
     "output_type": "stream",
     "text": [
      "/tmp/ipykernel_380429/4190466832.py:13: DeprecationWarning: `np.int` is a deprecated alias for the builtin `int`. To silence this warning, use `int` by itself. Doing this will not modify any behavior and is safe. When replacing `np.int`, you may wish to use e.g. `np.int64` or `np.int32` to specify the precision. If you wish to review your current use, check the release note link for additional information.\n",
      "Deprecated in NumPy 1.20; for more details and guidance: https://numpy.org/devdocs/release/1.20.0-notes.html#deprecations\n",
      "  split = np.int(train_test_split*temp_data.shape[0])\n"
     ]
    },
    {
     "name": "stdout",
     "output_type": "stream",
     "text": [
      "old min-max: 0.0 1.0\n",
      "new min-max: 0.0 1.0\n",
      "[00001] -- best objective: -340282346638528859811704183484516925440.00000 -- received objective: -340282346638528859811704183484516925440.00000\n",
      "[00002] -- best objective: -340282346638528859811704183484516925440.00000 -- received objective: -340282346638528859811704183484516925440.00000\n",
      "[00003] -- best objective: -340282346638528859811704183484516925440.00000 -- received objective: -340282346638528859811704183484516925440.00000\n",
      "[00004] -- best objective: -340282346638528859811704183484516925440.00000 -- received objective: -340282346638528859811704183484516925440.00000\n",
      "[00005] -- best objective: -340282346638528859811704183484516925440.00000 -- received objective: -340282346638528859811704183484516925440.00000\n"
     ]
    }
   ],
   "source": [
    "from deephyper.search.nas import Random\n",
    "\n",
    "random_search = Random(problem, get_evaluator(run_base_trainer), log_dir=\"random_search\")\n",
    "results[\"random\"] = random_search.search(max_evals=max_evals)"
   ]
  },
  {
   "cell_type": "code",
   "execution_count": 18,
   "id": "42b0aa48-540b-454d-999f-e5ad8e304dd0",
   "metadata": {},
   "outputs": [
    {
     "name": "stdout",
     "output_type": "stream",
     "text": [
      "Created new evaluator with 7 workers and config: {'num_cpus': 7, 'num_cpus_per_task': 1, 'callbacks': [<deephyper.evaluator.callback.LoggerCallback object at 0x148bc1e13640>], 'num_gpus': 7, 'num_gpus_per_task': 1}\n"
     ]
    },
    {
     "name": "stderr",
     "output_type": "stream",
     "text": [
      "/tmp/ipykernel_380429/4190466832.py:13: DeprecationWarning: `np.int` is a deprecated alias for the builtin `int`. To silence this warning, use `int` by itself. Doing this will not modify any behavior and is safe. When replacing `np.int`, you may wish to use e.g. `np.int64` or `np.int32` to specify the precision. If you wish to review your current use, check the release note link for additional information.\n",
      "Deprecated in NumPy 1.20; for more details and guidance: https://numpy.org/devdocs/release/1.20.0-notes.html#deprecations\n",
      "  split = np.int(train_test_split*temp_data.shape[0])\n"
     ]
    },
    {
     "name": "stdout",
     "output_type": "stream",
     "text": [
      "old min-max: 0.0 1.0\n",
      "new min-max: 0.0 1.0\n",
      "[00001] -- best objective: -340282346638528859811704183484516925440.00000 -- received objective: -340282346638528859811704183484516925440.00000\n",
      "[00002] -- best objective: -340282346638528859811704183484516925440.00000 -- received objective: -340282346638528859811704183484516925440.00000\n",
      "[00003] -- best objective: -340282346638528859811704183484516925440.00000 -- received objective: -340282346638528859811704183484516925440.00000\n",
      "[00004] -- best objective: -340282346638528859811704183484516925440.00000 -- received objective: -340282346638528859811704183484516925440.00000\n",
      "[00005] -- best objective: -340282346638528859811704183484516925440.00000 -- received objective: -340282346638528859811704183484516925440.00000\n"
     ]
    }
   ],
   "source": [
    "from deephyper.search.nas import RegularizedEvolution\n",
    "\n",
    "regevo_search = RegularizedEvolution(problem, get_evaluator(run_base_trainer), log_dir=\"regevo_search\")\n",
    "results[\"regevo\"] = regevo_search.search(max_evals=max_evals)"
   ]
  },
  {
   "cell_type": "code",
   "execution_count": 19,
   "id": "542f7857-4925-40b1-9c65-6c9059a4454e",
   "metadata": {},
   "outputs": [
    {
     "data": {
      "image/png": "[encoded data removed]",
      "text/plain": [
       "<Figure size 576x355.995 with 1 Axes>"
      ]
     },
     "metadata": {
      "needs_background": "light"
     },
     "output_type": "display_data"
    }
   ],
   "source": [
    "# We can now compare the search trajectories for different algorithms.\n",
    "\n",
    "def max_score(l):\n",
    "    r = [l[0]]\n",
    "    for el in l[1:]:\n",
    "        r.append(max(r[-1], el))\n",
    "    return r\n",
    "\n",
    "width = 8\n",
    "height = width/1.618\n",
    "plt.figure(figsize=(width, height))\n",
    "\n",
    "for k, result in results.items():\n",
    "    plt.plot(max_score(results[k].objective), label=k)\n",
    "\n",
    "plt.legend()\n",
    "\n",
    "plt.show()"
   ]
  },
  {
   "cell_type": "code",
   "execution_count": null,
   "id": "7b6fa3ab-3f81-464a-aee7-db902bb5a09d",
   "metadata": {},
   "outputs": [],
   "source": []
  },
  {
   "cell_type": "code",
   "execution_count": null,
   "id": "176b4930-d86a-49ce-9d14-7489a26d9857",
   "metadata": {},
   "outputs": [],
   "source": []
  },
  {
   "cell_type": "code",
   "execution_count": null,
   "id": "71917e81-1899-4727-9d3c-7d22d0035a33",
   "metadata": {},
   "outputs": [],
   "source": []
  },
  {
   "cell_type": "markdown",
   "id": "be893267-98aa-4870-af79-9c3715d9351d",
   "metadata": {},
   "source": [
    "## AutoDEUQ: Automated Deep Ensemble with Uncertainty Quantification\n",
    "\n",
    "AutoDEUQ is an algorithm in 2 steps:\n",
    "1. joint hyperparameter and neural architecture search to generate a catalog of models.\n",
    "2. build an ensemble from the catalog\n",
    "\n",
    "To this end we start by editing slightly the previous `RegressionFactory` by adding the `DistributionLambda` layer as output."
   ]
  },
  {
   "cell_type": "code",
   "execution_count": 20,
   "id": "1e091caa-7090-461b-a100-9a5fcb2db7f6",
   "metadata": {},
   "outputs": [],
   "source": [
    "import tensorflow_probability as tfp\n",
    "tfd = tfp.distributions"
   ]
  },
  {
   "cell_type": "code",
   "execution_count": 21,
   "id": "7c2514f8-da07-46ce-b4ad-efa598e2da75",
   "metadata": {},
   "outputs": [],
   "source": [
    "def nll(y, rv_y):\n",
    "    \"\"\"Negative log likelihood for Tensorflow probability.\n",
    "    \n",
    "    Args:\n",
    "        y: true data.\n",
    "        rv_y: learned (predicted) probability distribution.\n",
    "    \"\"\"\n",
    "    return -rv_y.log_prob(y)"
   ]
  },
  {
   "cell_type": "code",
   "execution_count": 22,
   "id": "c98d87c9-b543-4bf1-bbf0-3ea7ecb904dd",
   "metadata": {},
   "outputs": [],
   "source": [
    "DistributionLambda = operation(tfp.layers.DistributionLambda)"
   ]
  },
  {
   "cell_type": "code",
   "execution_count": 23,
   "id": "0d5e1a8c-f5db-47df-a632-31388d97585d",
   "metadata": {},
   "outputs": [
    {
     "data": {
      "text/plain": [
       "Problem is:\n",
       "    - search space   : __main__.AutoEncoderSpace\n",
       "    - data loading   : __main__.load_data\n",
       "    - preprocessing  : None\n",
       "    - hyperparameters: \n",
       "        * verbose: 0\n",
       "        * batch_size: batch_size, Type: UniformInteger, Range: [10, 100], Default: 55\n",
       "        * learning_rate: learning_rate, Type: UniformFloat, Range: [0.0001, 0.1], Default: 0.0031622777, on log-scale\n",
       "        * optimizer: optimizer, Type: Categorical, Choices: {sgd, rmsprop, adagrad, adam, adadelta, adamax, nadam}, Default: sgd\n",
       "        * patience_ReduceLROnPlateau: patience_ReduceLROnPlateau, Type: UniformInteger, Range: [10, 20], Default: 15\n",
       "        * patience_EarlyStopping: patience_EarlyStopping, Type: UniformInteger, Range: [20, 30], Default: 25\n",
       "        * num_epochs: 30\n",
       "        * callbacks: {'ReduceLROnPlateau': {'monitor': 'val_loss', 'mode': 'min', 'verbose': 0, 'patience': 5}, 'EarlyStopping': {'monitor': 'val_loss', 'mode': 'min', 'verbose': 0, 'patience': 10}, 'ModelCheckpoint': {'monitor': 'val_loss', 'mode': 'min', 'save_best_only': True, 'verbose': 0, 'filepath': 'model.h5', 'save_weights_only': False}}\n",
       "    - loss           : <function nll at 0x1488b2b195e0>\n",
       "    - metrics        : \n",
       "    - objective      : -val_loss"
      ]
     },
     "execution_count": 23,
     "metadata": {},
     "output_type": "execute_result"
    }
   ],
   "source": [
    "problem_uq = NaProblem()\n",
    "\n",
    "problem_uq.load_data(load_data)\n",
    "\n",
    "#problem_uq.preprocessing(stdscaler)\n",
    "\n",
    "problem_uq.search_space(AutoEncoderSpace, num_layers=3)\n",
    "\n",
    "problem_uq.hyperparameters(\n",
    "    batch_size=problem_uq.add_hyperparameter((10,100), \"batch_size\"),\n",
    "    learning_rate=problem_uq.add_hyperparameter(\n",
    "        (1e-4, 0.1, \"log-uniform\"),\n",
    "        \"learning_rate\",\n",
    "    ),\n",
    "    optimizer=problem_uq.add_hyperparameter(\n",
    "        [\"sgd\", \"rmsprop\", \"adagrad\", \"adam\", \"adadelta\", \"adamax\", \"nadam\"],\n",
    "        \"optimizer\",\n",
    "    ),\n",
    "    patience_ReduceLROnPlateau=problem_uq.add_hyperparameter(\n",
    "        (10, 20), \"patience_ReduceLROnPlateau\"\n",
    "    ),\n",
    "    patience_EarlyStopping=problem_uq.add_hyperparameter(\n",
    "        (20, 30), \"patience_EarlyStopping\"\n",
    "    ),\n",
    "    num_epochs=30,\n",
    "    callbacks=dict(\n",
    "        ReduceLROnPlateau=dict(monitor=\"val_loss\", mode=\"min\", verbose=0, patience=5),\n",
    "        EarlyStopping=dict(monitor=\"val_loss\", mode=\"min\", verbose=0, patience=10),\n",
    "        # We save trained models in neural architecture search\n",
    "        ModelCheckpoint=dict(\n",
    "            monitor=\"val_loss\",\n",
    "            mode=\"min\",\n",
    "            save_best_only=True,\n",
    "            verbose=0,\n",
    "            filepath=\"model.h5\",\n",
    "            save_weights_only=False,\n",
    "        ),\n",
    "    ),\n",
    ")\n",
    "\n",
    "problem_uq.loss(nll)\n",
    "\n",
    "problem_uq.metrics([])\n",
    "\n",
    "# The objective is maximized so we take the negative of the validation loss\n",
    "# where the loss is minimized\n",
    "problem_uq.objective(\"-val_loss\")\n",
    "\n",
    "problem_uq"
   ]
  },
  {
   "cell_type": "code",
   "execution_count": 24,
   "id": "879ef00e-38b5-4861-8950-a0c66fcc89b4",
   "metadata": {},
   "outputs": [],
   "source": [
    "results_uq = {}"
   ]
  },
  {
   "cell_type": "code",
   "execution_count": 25,
   "id": "ac66e62b-9514-4883-b698-b0522a0a34fa",
   "metadata": {},
   "outputs": [
    {
     "name": "stdout",
     "output_type": "stream",
     "text": [
      "Created new evaluator with 7 workers and config: {'num_cpus': 7, 'num_cpus_per_task': 1, 'callbacks': [<deephyper.evaluator.callback.LoggerCallback object at 0x1488b2a9fc70>], 'num_gpus': 7, 'num_gpus_per_task': 1}\n"
     ]
    },
    {
     "name": "stderr",
     "output_type": "stream",
     "text": [
      "/tmp/ipykernel_380429/4190466832.py:13: DeprecationWarning: `np.int` is a deprecated alias for the builtin `int`. To silence this warning, use `int` by itself. Doing this will not modify any behavior and is safe. When replacing `np.int`, you may wish to use e.g. `np.int64` or `np.int32` to specify the precision. If you wish to review your current use, check the release note link for additional information.\n",
      "Deprecated in NumPy 1.20; for more details and guidance: https://numpy.org/devdocs/release/1.20.0-notes.html#deprecations\n",
      "  split = np.int(train_test_split*temp_data.shape[0])\n"
     ]
    },
    {
     "name": "stdout",
     "output_type": "stream",
     "text": [
      "old min-max: 0.0 1.0\n",
      "new min-max: 0.0 1.0\n",
      "[00001] -- best objective: -340282346638528859811704183484516925440.00000 -- received objective: -340282346638528859811704183484516925440.00000\n",
      "[00002] -- best objective: -340282346638528859811704183484516925440.00000 -- received objective: -340282346638528859811704183484516925440.00000\n",
      "[00003] -- best objective: -340282346638528859811704183484516925440.00000 -- received objective: -340282346638528859811704183484516925440.00000\n",
      "[00004] -- best objective: -340282346638528859811704183484516925440.00000 -- received objective: -340282346638528859811704183484516925440.00000\n",
      "[00005] -- best objective: -340282346638528859811704183484516925440.00000 -- received objective: -340282346638528859811704183484516925440.00000\n",
      "[00006] -- best objective: -340282346638528859811704183484516925440.00000 -- received objective: -340282346638528859811704183484516925440.00000\n",
      "[00007] -- best objective: -340282346638528859811704183484516925440.00000 -- received objective: -340282346638528859811704183484516925440.00000\n",
      "[00008] -- best objective: -340282346638528859811704183484516925440.00000 -- received objective: -340282346638528859811704183484516925440.00000\n",
      "[00009] -- best objective: -340282346638528859811704183484516925440.00000 -- received objective: -340282346638528859811704183484516925440.00000\n",
      "[00010] -- best objective: -340282346638528859811704183484516925440.00000 -- received objective: -340282346638528859811704183484516925440.00000\n"
     ]
    }
   ],
   "source": [
    "from deephyper.search.nas import AgEBO\n",
    "import os\n",
    "import shutil\n",
    "\n",
    "if os.path.exists(\"agebo_search\"):\n",
    "    shutil.rmtree(\"agebo_search\")\n",
    "\n",
    "# \"n_jobs\" is the number of processes used to refresh the state of the surrogate model used in AgEBO \n",
    "agebo_search = AgEBO(problem_uq, get_evaluator(run_base_trainer), log_dir=\"agebo_search\", n_jobs=7)\n",
    "\n",
    "results_uq[\"agebo\"] = agebo_search.search(max_evals=10)"
   ]
  },
  {
   "cell_type": "code",
   "execution_count": 26,
   "id": "e6aea99a-b8b7-406d-a9dd-64f2c8efaba8",
   "metadata": {},
   "outputs": [
    {
     "data": {
      "text/html": [
       "<div>\n",
       "<style scoped>\n",
       "    .dataframe tbody tr th:only-of-type {\n",
       "        vertical-align: middle;\n",
       "    }\n",
       "\n",
       "    .dataframe tbody tr th {\n",
       "        vertical-align: top;\n",
       "    }\n",
       "\n",
       "    .dataframe thead th {\n",
       "        text-align: right;\n",
       "    }\n",
       "</style>\n",
       "<table border=\"1\" class=\"dataframe\">\n",
       "  <thead>\n",
       "    <tr style=\"text-align: right;\">\n",
       "      <th></th>\n",
       "      <th>arch_seq</th>\n",
       "      <th>batch_size</th>\n",
       "      <th>learning_rate</th>\n",
       "      <th>optimizer</th>\n",
       "      <th>patience_EarlyStopping</th>\n",
       "      <th>patience_ReduceLROnPlateau</th>\n",
       "      <th>id</th>\n",
       "      <th>objective</th>\n",
       "      <th>elapsed_sec</th>\n",
       "      <th>duration</th>\n",
       "    </tr>\n",
       "  </thead>\n",
       "  <tbody>\n",
       "    <tr>\n",
       "      <th>0</th>\n",
       "      <td>[11, 16, 3, 5, 0, 7]</td>\n",
       "      <td>99</td>\n",
       "      <td>0.000166</td>\n",
       "      <td>adam</td>\n",
       "      <td>22</td>\n",
       "      <td>13</td>\n",
       "      <td>4</td>\n",
       "      <td>-3.402823e+38</td>\n",
       "      <td>13.816410</td>\n",
       "      <td>7.834925</td>\n",
       "    </tr>\n",
       "    <tr>\n",
       "      <th>1</th>\n",
       "      <td>[5, 3, 0, 6, 6, 3]</td>\n",
       "      <td>23</td>\n",
       "      <td>0.000993</td>\n",
       "      <td>adamax</td>\n",
       "      <td>29</td>\n",
       "      <td>17</td>\n",
       "      <td>1</td>\n",
       "      <td>-3.402823e+38</td>\n",
       "      <td>14.596870</td>\n",
       "      <td>8.615555</td>\n",
       "    </tr>\n",
       "    <tr>\n",
       "      <th>2</th>\n",
       "      <td>[17, 8, 7, 1, 0, 2]</td>\n",
       "      <td>40</td>\n",
       "      <td>0.001530</td>\n",
       "      <td>adamax</td>\n",
       "      <td>21</td>\n",
       "      <td>17</td>\n",
       "      <td>7</td>\n",
       "      <td>-3.402823e+38</td>\n",
       "      <td>15.540452</td>\n",
       "      <td>9.558808</td>\n",
       "    </tr>\n",
       "    <tr>\n",
       "      <th>3</th>\n",
       "      <td>[3, 12, 4, 2, 3, 0]</td>\n",
       "      <td>84</td>\n",
       "      <td>0.004674</td>\n",
       "      <td>adam</td>\n",
       "      <td>20</td>\n",
       "      <td>12</td>\n",
       "      <td>5</td>\n",
       "      <td>-3.402823e+38</td>\n",
       "      <td>15.540632</td>\n",
       "      <td>9.559096</td>\n",
       "    </tr>\n",
       "    <tr>\n",
       "      <th>4</th>\n",
       "      <td>[8, 6, 12, 0, 7, 2]</td>\n",
       "      <td>57</td>\n",
       "      <td>0.000960</td>\n",
       "      <td>adadelta</td>\n",
       "      <td>21</td>\n",
       "      <td>14</td>\n",
       "      <td>3</td>\n",
       "      <td>-3.402823e+38</td>\n",
       "      <td>16.120193</td>\n",
       "      <td>10.138762</td>\n",
       "    </tr>\n",
       "    <tr>\n",
       "      <th>5</th>\n",
       "      <td>[1, 6, 6, 5, 1, 2]</td>\n",
       "      <td>44</td>\n",
       "      <td>0.000106</td>\n",
       "      <td>rmsprop</td>\n",
       "      <td>25</td>\n",
       "      <td>18</td>\n",
       "      <td>2</td>\n",
       "      <td>-3.402823e+38</td>\n",
       "      <td>16.120079</td>\n",
       "      <td>10.138702</td>\n",
       "    </tr>\n",
       "    <tr>\n",
       "      <th>6</th>\n",
       "      <td>[13, 7, 2, 7, 3, 2]</td>\n",
       "      <td>19</td>\n",
       "      <td>0.065419</td>\n",
       "      <td>nadam</td>\n",
       "      <td>28</td>\n",
       "      <td>19</td>\n",
       "      <td>8</td>\n",
       "      <td>-3.402823e+38</td>\n",
       "      <td>21.405750</td>\n",
       "      <td>7.249819</td>\n",
       "    </tr>\n",
       "    <tr>\n",
       "      <th>7</th>\n",
       "      <td>[7, 1, 17, 2, 7, 0]</td>\n",
       "      <td>33</td>\n",
       "      <td>0.001639</td>\n",
       "      <td>adamax</td>\n",
       "      <td>20</td>\n",
       "      <td>13</td>\n",
       "      <td>6</td>\n",
       "      <td>-3.402823e+38</td>\n",
       "      <td>16.120209</td>\n",
       "      <td>10.138619</td>\n",
       "    </tr>\n",
       "    <tr>\n",
       "      <th>8</th>\n",
       "      <td>[16, 15, 5, 5, 0, 6]</td>\n",
       "      <td>27</td>\n",
       "      <td>0.044783</td>\n",
       "      <td>nadam</td>\n",
       "      <td>25</td>\n",
       "      <td>19</td>\n",
       "      <td>11</td>\n",
       "      <td>-3.402823e+38</td>\n",
       "      <td>22.663387</td>\n",
       "      <td>6.552789</td>\n",
       "    </tr>\n",
       "  </tbody>\n",
       "</table>\n",
       "</div>"
      ],
      "text/plain": [
       "               arch_seq  batch_size  learning_rate optimizer  \\\n",
       "0  [11, 16, 3, 5, 0, 7]          99       0.000166      adam   \n",
       "1    [5, 3, 0, 6, 6, 3]          23       0.000993    adamax   \n",
       "2   [17, 8, 7, 1, 0, 2]          40       0.001530    adamax   \n",
       "3   [3, 12, 4, 2, 3, 0]          84       0.004674      adam   \n",
       "4   [8, 6, 12, 0, 7, 2]          57       0.000960  adadelta   \n",
       "5    [1, 6, 6, 5, 1, 2]          44       0.000106   rmsprop   \n",
       "6   [13, 7, 2, 7, 3, 2]          19       0.065419     nadam   \n",
       "7   [7, 1, 17, 2, 7, 0]          33       0.001639    adamax   \n",
       "8  [16, 15, 5, 5, 0, 6]          27       0.044783     nadam   \n",
       "\n",
       "   patience_EarlyStopping  patience_ReduceLROnPlateau  id     objective  \\\n",
       "0                      22                          13   4 -3.402823e+38   \n",
       "1                      29                          17   1 -3.402823e+38   \n",
       "2                      21                          17   7 -3.402823e+38   \n",
       "3                      20                          12   5 -3.402823e+38   \n",
       "4                      21                          14   3 -3.402823e+38   \n",
       "5                      25                          18   2 -3.402823e+38   \n",
       "6                      28                          19   8 -3.402823e+38   \n",
       "7                      20                          13   6 -3.402823e+38   \n",
       "8                      25                          19  11 -3.402823e+38   \n",
       "\n",
       "   elapsed_sec   duration  \n",
       "0    13.816410   7.834925  \n",
       "1    14.596870   8.615555  \n",
       "2    15.540452   9.558808  \n",
       "3    15.540632   9.559096  \n",
       "4    16.120193  10.138762  \n",
       "5    16.120079  10.138702  \n",
       "6    21.405750   7.249819  \n",
       "7    16.120209  10.138619  \n",
       "8    22.663387   6.552789  "
      ]
     },
     "execution_count": 26,
     "metadata": {},
     "output_type": "execute_result"
    }
   ],
   "source": [
    "results_uq[\"agebo\"]"
   ]
  },
  {
   "cell_type": "code",
   "execution_count": 27,
   "id": "4f7e3758-e5d5-4c52-92f7-14326a0f3f5e",
   "metadata": {},
   "outputs": [
    {
     "name": "stderr",
     "output_type": "stream",
     "text": [
      "/tmp/ipykernel_380429/4190466832.py:13: DeprecationWarning: `np.int` is a deprecated alias for the builtin `int`. To silence this warning, use `int` by itself. Doing this will not modify any behavior and is safe. When replacing `np.int`, you may wish to use e.g. `np.int64` or `np.int32` to specify the precision. If you wish to review your current use, check the release note link for additional information.\n",
      "Deprecated in NumPy 1.20; for more details and guidance: https://numpy.org/devdocs/release/1.20.0-notes.html#deprecations\n",
      "  split = np.int(train_test_split*temp_data.shape[0])\n"
     ]
    },
    {
     "name": "stdout",
     "output_type": "stream",
     "text": [
      "old min-max: 0.0 1.0\n",
      "new min-max: 0.0 1.0\n"
     ]
    }
   ],
   "source": [
    "(x, y), (vx, vy) = load_data()\n",
    "# (tx , ty) = load_data_test()\n",
    "s_x = x\n",
    "s_y = y\n",
    "s_vx = vx\n",
    "s_vy = vy"
   ]
  },
  {
   "cell_type": "code",
   "execution_count": 28,
   "id": "ac72370d-f5ed-41c2-8619-6b7f43fbe007",
   "metadata": {},
   "outputs": [
    {
     "data": {
      "text/plain": [
       "(188743680,)"
      ]
     },
     "execution_count": 28,
     "metadata": {},
     "output_type": "execute_result"
    }
   ],
   "source": [
    "x.flatten().shape"
   ]
  },
  {
   "cell_type": "code",
   "execution_count": 29,
   "id": "f1ea68d5-1ab1-4452-8db8-a33579f43f83",
   "metadata": {},
   "outputs": [],
   "source": [
    "from deephyper.ensemble import UQBaggingEnsembleRegressor"
   ]
  },
  {
   "cell_type": "code",
   "execution_count": 30,
   "id": "670a1c28-3ac0-4a8f-b693-396e7480ecba",
   "metadata": {},
   "outputs": [
    {
     "ename": "AttributeError",
     "evalue": "'numpy.ndarray' object has no attribute 'log_prob'",
     "output_type": "error",
     "traceback": [
      "\u001b[0;31m---------------------------------------------------------------------------\u001b[0m",
      "\u001b[0;31mAttributeError\u001b[0m                            Traceback (most recent call last)",
      "Input \u001b[0;32mIn [30]\u001b[0m, in \u001b[0;36m<cell line: 24>\u001b[0;34m()\u001b[0m\n\u001b[1;32m      1\u001b[0m \u001b[38;5;66;03m# ensemble = UQBaggingEnsembleRegressor(\u001b[39;00m\n\u001b[1;32m      2\u001b[0m \u001b[38;5;66;03m#     model_dir=\"agebo_search/save/model\",\u001b[39;00m\n\u001b[1;32m      3\u001b[0m \u001b[38;5;66;03m#     loss=nll,  # default is nll\u001b[39;00m\n\u001b[0;32m   (...)\u001b[0m\n\u001b[1;32m      9\u001b[0m \u001b[38;5;66;03m#     selection=\"topk\",\u001b[39;00m\n\u001b[1;32m     10\u001b[0m \u001b[38;5;66;03m# )\u001b[39;00m\n\u001b[1;32m     13\u001b[0m ensemble \u001b[38;5;241m=\u001b[39m UQBaggingEnsembleRegressor(\n\u001b[1;32m     14\u001b[0m     model_dir\u001b[38;5;241m=\u001b[39m\u001b[38;5;124m\"\u001b[39m\u001b[38;5;124magebo_search/save/model\u001b[39m\u001b[38;5;124m\"\u001b[39m,\n\u001b[1;32m     15\u001b[0m     loss\u001b[38;5;241m=\u001b[39mnll,\n\u001b[0;32m   (...)\u001b[0m\n\u001b[1;32m     21\u001b[0m     selection\u001b[38;5;241m=\u001b[39m\u001b[38;5;124m\"\u001b[39m\u001b[38;5;124mtopk\u001b[39m\u001b[38;5;124m\"\u001b[39m,\n\u001b[1;32m     22\u001b[0m )\n\u001b[0;32m---> 24\u001b[0m \u001b[43mensemble\u001b[49m\u001b[38;5;241;43m.\u001b[39;49m\u001b[43mfit\u001b[49m\u001b[43m(\u001b[49m\u001b[43ms_vx\u001b[49m\u001b[43m,\u001b[49m\u001b[43m \u001b[49m\u001b[43ms_vy\u001b[49m\u001b[43m)\u001b[49m\n\u001b[1;32m     26\u001b[0m \u001b[38;5;28mprint\u001b[39m(\u001b[38;5;124mf\u001b[39m\u001b[38;5;124m\"\u001b[39m\u001b[38;5;124mSelected \u001b[39m\u001b[38;5;132;01m{\u001b[39;00m\u001b[38;5;28mlen\u001b[39m(ensemble\u001b[38;5;241m.\u001b[39mmembers_files)\u001b[38;5;132;01m}\u001b[39;00m\u001b[38;5;124m members are: \u001b[39m\u001b[38;5;124m\"\u001b[39m, ensemble\u001b[38;5;241m.\u001b[39mmembers_files)\n",
      "File \u001b[0;32m/lcrc/project/cosmo_ai/nramachandra/Projects/PRISM/saul_tests/deephyper/deephyper/ensemble/_uq_bagging_ensemble.py:181\u001b[0m, in \u001b[0;36mUQBaggingEnsemble.fit\u001b[0;34m(self, X, y)\u001b[0m\n\u001b[1;32m    171\u001b[0m y_pred \u001b[38;5;241m=\u001b[39m ray\u001b[38;5;241m.\u001b[39mget(\n\u001b[1;32m    172\u001b[0m     [\n\u001b[1;32m    173\u001b[0m         model_predict\u001b[38;5;241m.\u001b[39moptions(\n\u001b[0;32m   (...)\u001b[0m\n\u001b[1;32m    177\u001b[0m     ]\n\u001b[1;32m    178\u001b[0m )\n\u001b[1;32m    179\u001b[0m y_pred \u001b[38;5;241m=\u001b[39m np\u001b[38;5;241m.\u001b[39marray([arr \u001b[38;5;28;01mfor\u001b[39;00m arr \u001b[38;5;129;01min\u001b[39;00m y_pred \u001b[38;5;28;01mif\u001b[39;00m arr \u001b[38;5;129;01mis\u001b[39;00m \u001b[38;5;129;01mnot\u001b[39;00m \u001b[38;5;28;01mNone\u001b[39;00m])\n\u001b[0;32m--> 181\u001b[0m \u001b[38;5;28mself\u001b[39m\u001b[38;5;241m.\u001b[39m_members_indexes \u001b[38;5;241m=\u001b[39m \u001b[38;5;28;43mself\u001b[39;49m\u001b[38;5;241;43m.\u001b[39;49m\u001b[43m_select_members\u001b[49m\u001b[43m(\u001b[49m\n\u001b[1;32m    182\u001b[0m \u001b[43m    \u001b[49m\u001b[38;5;28;43mself\u001b[39;49m\u001b[38;5;241;43m.\u001b[39;49m\u001b[43mloss\u001b[49m\u001b[43m,\u001b[49m\u001b[43m \u001b[49m\u001b[43my_true\u001b[49m\u001b[38;5;241;43m=\u001b[39;49m\u001b[43my\u001b[49m\u001b[43m,\u001b[49m\u001b[43m \u001b[49m\u001b[43my_pred\u001b[49m\u001b[38;5;241;43m=\u001b[39;49m\u001b[43my_pred\u001b[49m\u001b[43m,\u001b[49m\u001b[43m \u001b[49m\u001b[43mk\u001b[49m\u001b[38;5;241;43m=\u001b[39;49m\u001b[38;5;28;43mself\u001b[39;49m\u001b[38;5;241;43m.\u001b[39;49m\u001b[43msize\u001b[49m\n\u001b[1;32m    183\u001b[0m \u001b[43m\u001b[49m\u001b[43m)\u001b[49m\n\u001b[1;32m    184\u001b[0m \u001b[38;5;28mself\u001b[39m\u001b[38;5;241m.\u001b[39mmembers_files \u001b[38;5;241m=\u001b[39m [model_files[i] \u001b[38;5;28;01mfor\u001b[39;00m i \u001b[38;5;129;01min\u001b[39;00m \u001b[38;5;28mself\u001b[39m\u001b[38;5;241m.\u001b[39m_members_indexes]\n",
      "File \u001b[0;32m/lcrc/project/cosmo_ai/nramachandra/Projects/PRISM/saul_tests/deephyper/deephyper/ensemble/_uq_bagging_ensemble.py:163\u001b[0m, in \u001b[0;36mUQBaggingEnsemble._select_members\u001b[0;34m(self, loss_func, y_true, y_pred, k, verbose)\u001b[0m\n\u001b[1;32m    161\u001b[0m \u001b[38;5;28;01melse\u001b[39;00m:\n\u001b[1;32m    162\u001b[0m     \u001b[38;5;28;01mraise\u001b[39;00m \u001b[38;5;167;01mNotImplementedError\u001b[39;00m\n\u001b[0;32m--> 163\u001b[0m \u001b[38;5;28;01mreturn\u001b[39;00m \u001b[43mfunc\u001b[49m\u001b[43m(\u001b[49m\u001b[43mloss_func\u001b[49m\u001b[43m,\u001b[49m\u001b[43m \u001b[49m\u001b[43my_true\u001b[49m\u001b[43m,\u001b[49m\u001b[43m \u001b[49m\u001b[43my_pred\u001b[49m\u001b[43m,\u001b[49m\u001b[43m \u001b[49m\u001b[43mk\u001b[49m\u001b[43m,\u001b[49m\u001b[43m \u001b[49m\u001b[43mverbose\u001b[49m\u001b[43m)\u001b[49m\n",
      "File \u001b[0;32m/lcrc/project/cosmo_ai/nramachandra/Projects/PRISM/saul_tests/deephyper/deephyper/ensemble/_uq_bagging_ensemble.py:416\u001b[0m, in \u001b[0;36mtopk\u001b[0;34m(loss_func, y_true, y_pred, k, verbose)\u001b[0m\n\u001b[1;32m    412\u001b[0m     y_pred \u001b[38;5;241m=\u001b[39m tfp\u001b[38;5;241m.\u001b[39mdistributions\u001b[38;5;241m.\u001b[39mNormal(\n\u001b[1;32m    413\u001b[0m         loc\u001b[38;5;241m=\u001b[39my_pred[:, :, :mid], scale\u001b[38;5;241m=\u001b[39my_pred[:, :, mid:]\n\u001b[1;32m    414\u001b[0m     )\n\u001b[1;32m    415\u001b[0m \u001b[38;5;66;03m# losses is of shape: (n_models, n_outputs)\u001b[39;00m\n\u001b[0;32m--> 416\u001b[0m losses \u001b[38;5;241m=\u001b[39m tf\u001b[38;5;241m.\u001b[39mreduce_mean(\u001b[43mloss_func\u001b[49m\u001b[43m(\u001b[49m\u001b[43my_true\u001b[49m\u001b[43m,\u001b[49m\u001b[43m \u001b[49m\u001b[43my_pred\u001b[49m\u001b[43m)\u001b[49m, axis\u001b[38;5;241m=\u001b[39m\u001b[38;5;241m1\u001b[39m)\u001b[38;5;241m.\u001b[39mnumpy()\n\u001b[1;32m    417\u001b[0m \u001b[38;5;28;01mif\u001b[39;00m verbose:\n\u001b[1;32m    418\u001b[0m     \u001b[38;5;28mprint\u001b[39m(\u001b[38;5;124mf\u001b[39m\u001b[38;5;124m\"\u001b[39m\u001b[38;5;124mTop-\u001b[39m\u001b[38;5;132;01m{\u001b[39;00mk\u001b[38;5;132;01m}\u001b[39;00m\u001b[38;5;124m losses: \u001b[39m\u001b[38;5;132;01m{\u001b[39;00mlosses\u001b[38;5;241m.\u001b[39mreshape(\u001b[38;5;241m-\u001b[39m\u001b[38;5;241m1\u001b[39m)[:k]\u001b[38;5;132;01m}\u001b[39;00m\u001b[38;5;124m\"\u001b[39m)\n",
      "Input \u001b[0;32mIn [21]\u001b[0m, in \u001b[0;36mnll\u001b[0;34m(y, rv_y)\u001b[0m\n\u001b[1;32m      1\u001b[0m \u001b[38;5;28;01mdef\u001b[39;00m \u001b[38;5;21mnll\u001b[39m(y, rv_y):\n\u001b[1;32m      2\u001b[0m     \u001b[38;5;124;03m\"\"\"Negative log likelihood for Tensorflow probability.\u001b[39;00m\n\u001b[1;32m      3\u001b[0m \u001b[38;5;124;03m    \u001b[39;00m\n\u001b[1;32m      4\u001b[0m \u001b[38;5;124;03m    Args:\u001b[39;00m\n\u001b[1;32m      5\u001b[0m \u001b[38;5;124;03m        y: true data.\u001b[39;00m\n\u001b[1;32m      6\u001b[0m \u001b[38;5;124;03m        rv_y: learned (predicted) probability distribution.\u001b[39;00m\n\u001b[1;32m      7\u001b[0m \u001b[38;5;124;03m    \"\"\"\u001b[39;00m\n\u001b[0;32m----> 8\u001b[0m     \u001b[38;5;28;01mreturn\u001b[39;00m \u001b[38;5;241m-\u001b[39m\u001b[43mrv_y\u001b[49m\u001b[38;5;241;43m.\u001b[39;49m\u001b[43mlog_prob\u001b[49m(y)\n",
      "\u001b[0;31mAttributeError\u001b[0m: 'numpy.ndarray' object has no attribute 'log_prob'"
     ]
    }
   ],
   "source": [
    "# ensemble = UQBaggingEnsembleRegressor(\n",
    "#     model_dir=\"agebo_search/save/model\",\n",
    "#     loss=nll,  # default is nll\n",
    "#     size=10,\n",
    "#     verbose=True,\n",
    "#     ray_address=\"auto\",\n",
    "#     num_cpus=1,\n",
    "#     num_gpus=1 if is_gpu_available else None,\n",
    "#     selection=\"topk\",\n",
    "# )\n",
    "\n",
    "\n",
    "ensemble = UQBaggingEnsembleRegressor(\n",
    "    model_dir=\"agebo_search/save/model\",\n",
    "    loss=nll,\n",
    "    size=10,\n",
    "    verbose=True,\n",
    "    ray_address=\"auto\",\n",
    "    num_cpus=1,\n",
    "    num_gpus=1 if is_gpu_available else None,\n",
    "    selection=\"topk\",\n",
    ")\n",
    "\n",
    "ensemble.fit(s_vx, s_vy)\n",
    "\n",
    "print(f\"Selected {len(ensemble.members_files)} members are: \", ensemble.members_files)"
   ]
  },
  {
   "cell_type": "code",
   "execution_count": null,
   "id": "91b07c3f-026d-48a0-94ef-b451df54227f",
   "metadata": {},
   "outputs": [],
   "source": []
  }
 ],
 "metadata": {
  "kernelspec": {
   "display_name": "Python 3 (ipykernel)",
   "language": "python",
   "name": "python3"
  },
  "language_info": {
   "codemirror_mode": {
    "name": "ipython",
    "version": 3
   },
   "file_extension": ".py",
   "mimetype": "text/x-python",
   "name": "python",
   "nbconvert_exporter": "python",
   "pygments_lexer": "ipython3",
   "version": "3.9.7"
  }
 },
 "nbformat": 4,
 "nbformat_minor": 5
}
